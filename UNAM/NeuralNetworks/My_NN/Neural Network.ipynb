{
 "cells": [
  {
   "cell_type": "markdown",
   "metadata": {},
   "source": [
    "## My Neural Network"
   ]
  },
  {
   "cell_type": "code",
   "execution_count": 10,
   "metadata": {},
   "outputs": [],
   "source": [
    "import numpy as np\n",
    "import scipy as sc\n",
    "\n",
    "import matplotlib.pyplot as plt"
   ]
  },
  {
   "cell_type": "markdown",
   "metadata": {},
   "source": [
    "## Datasets"
   ]
  },
  {
   "cell_type": "code",
   "execution_count": 55,
   "metadata": {},
   "outputs": [],
   "source": [
    "input_dataset = np.array([[0, 0], [0, 1], [1, 0], [1, 1]])\n",
    "output_dataset = np.array([[0], [1], [1], [0]])"
   ]
  },
  {
   "cell_type": "markdown",
   "metadata": {},
   "source": [
    "## Neural Network Layer class"
   ]
  },
  {
   "cell_type": "code",
   "execution_count": 56,
   "metadata": {},
   "outputs": [],
   "source": [
    "np.random.seed(5)"
   ]
  },
  {
   "cell_type": "code",
   "execution_count": 73,
   "metadata": {},
   "outputs": [],
   "source": [
    "class NeuralLayer:\n",
    "    def __init__(self, num_connections_entering, num_neurons, activation_fn):\n",
    "        self.activation_fn = activation_fn\n",
    "        \n",
    "        # create from -1 to 1\n",
    "        self.bias = np.random.rand(1, num_neurons) * 2 - 1\n",
    "        self.weights = np.random.rand(num_connections_entering, num_neurons) * 2 - 1"
   ]
  },
  {
   "cell_type": "markdown",
   "metadata": {},
   "source": [
    "## Activation functions"
   ]
  },
  {
   "cell_type": "code",
   "execution_count": 72,
   "metadata": {},
   "outputs": [],
   "source": [
    "# function, derivate\n",
    "sigmoid = (\n",
    "    lambda x : 1 / (1 + np.e ** (-x)),\n",
    "    lambda x : x * (1 - x)\n",
    ")"
   ]
  },
  {
   "cell_type": "code",
   "execution_count": 65,
   "metadata": {},
   "outputs": [],
   "source": [
    "## Cost function"
   ]
  },
  {
   "cell_type": "code",
   "execution_count": 75,
   "metadata": {},
   "outputs": [],
   "source": [
    "# function, derivate\n",
    "mean_square_error = (\n",
    "    lambda prediction, real : np.mean((prediction - real) ** 2),\n",
    "    lambda prediction, real : (prediction - real)\n",
    ")"
   ]
  },
  {
   "cell_type": "code",
   "execution_count": 76,
   "metadata": {},
   "outputs": [
    {
     "name": "stdout",
     "output_type": "stream",
     "text": [
      "[<__main__.NeuralLayer object at 0x10e8922d0>, <__main__.NeuralLayer object at 0x10e892350>]\n"
     ]
    }
   ],
   "source": [
    "def createNeuralNetwork():\n",
    "    NeuralNetwork = [\n",
    "        NeuralLayer(num_connections_entering=2, num_neurons=3, activation_fn=sigmoid),\n",
    "        NeuralLayer(num_connections_entering=2, num_neurons=3, activation_fn=sigmoid),\n",
    "    ]\n",
    "    \n",
    "    return NeuralNetwork\n",
    "    \n",
    "XOR = createNeuralNetwork()\n",
    "print(XOR)"
   ]
  },
  {
   "cell_type": "code",
   "execution_count": 63,
   "metadata": {},
   "outputs": [
    {
     "ename": "SyntaxError",
     "evalue": "unexpected EOF while parsing (<ipython-input-63-fc5bc86a88c8>, line 9)",
     "output_type": "error",
     "traceback": [
      "\u001b[0;36m  File \u001b[0;32m\"<ipython-input-63-fc5bc86a88c8>\"\u001b[0;36m, line \u001b[0;32m9\u001b[0m\n\u001b[0;31m    \u001b[0m\n\u001b[0m    ^\u001b[0m\n\u001b[0;31mSyntaxError\u001b[0m\u001b[0;31m:\u001b[0m unexpected EOF while parsing\n"
     ]
    }
   ],
   "source": [
    "def train(neural_network, input, output, cost_function, learning_rate = 0.2):\n",
    "    # Foward\n",
    "    input_to_layer = input\n",
    "    \n",
    "    for layer in neural_network:\n",
    "        pondate_sum = input_to_layer @ layer.weights + layer.bias\n",
    "        input_to_layer = after_activation = layer.activation_fn(pondate_sum)\n",
    "    \n",
    "    prediction = after_activation\n",
    "    \n",
    "    \n",
    "    # Calculate error\n",
    "    \n",
    "    # Backpropagation\n",
    "    \n",
    "    \n",
    "        "
   ]
  }
 ],
 "metadata": {
  "kernelspec": {
   "display_name": "Python 3",
   "language": "python",
   "name": "python3"
  },
  "language_info": {
   "codemirror_mode": {
    "name": "ipython",
    "version": 3
   },
   "file_extension": ".py",
   "mimetype": "text/x-python",
   "name": "python",
   "nbconvert_exporter": "python",
   "pygments_lexer": "ipython3",
   "version": "3.7.4"
  }
 },
 "nbformat": 4,
 "nbformat_minor": 2
}
