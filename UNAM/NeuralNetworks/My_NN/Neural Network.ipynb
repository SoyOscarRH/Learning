{
 "cells": [
  {
   "cell_type": "markdown",
   "metadata": {},
   "source": [
    "## My Neural Network"
   ]
  },
  {
   "cell_type": "code",
   "execution_count": 87,
   "metadata": {},
   "outputs": [],
   "source": [
    "import numpy as np\n",
    "import scipy as sc\n",
    "\n",
    "import matplotlib.pyplot as plt\n",
    "\n",
    "from ipywidgets import interact, interactive, fixed, interact_manual\n",
    "import ipywidgets as widgets\n",
    "from IPython.display import display"
   ]
  },
  {
   "cell_type": "markdown",
   "metadata": {},
   "source": [
    "## Datasets"
   ]
  },
  {
   "cell_type": "code",
   "execution_count": 88,
   "metadata": {},
   "outputs": [],
   "source": [
    "input_dataset = np.array([[0, 0], [0, 1], [1, 0], [1, 1]])\n",
    "output_dataset = np.array([[0], [1], [1], [0]])"
   ]
  },
  {
   "cell_type": "markdown",
   "metadata": {},
   "source": [
    "## Activation functions"
   ]
  },
  {
   "cell_type": "code",
   "execution_count": 89,
   "metadata": {},
   "outputs": [],
   "source": [
    "# function, derivate\n",
    "sigm = lambda x : 1 / (1 + np.exp(-x))\n",
    "\n",
    "sigmoid = (\n",
    "    lambda x : sigm(x),\n",
    "    lambda x : sigm(x) * (1 - sigm(x))\n",
    ")"
   ]
  },
  {
   "cell_type": "markdown",
   "metadata": {},
   "source": [
    "### Cost function"
   ]
  },
  {
   "cell_type": "code",
   "execution_count": 90,
   "metadata": {},
   "outputs": [],
   "source": [
    "# function, derivate\n",
    "mean_square_error = (\n",
    "    lambda prediction, real : np.mean((prediction - real) ** 2),\n",
    "    lambda prediction, real : (prediction - real)\n",
    ")"
   ]
  },
  {
   "cell_type": "markdown",
   "metadata": {},
   "source": [
    "## Neural Network Layer class"
   ]
  },
  {
   "cell_type": "code",
   "execution_count": 91,
   "metadata": {},
   "outputs": [],
   "source": [
    "class NeuralLayer:\n",
    "    def __init__(self, num_connections_entering, num_neurons, activation_fn):\n",
    "        self.activation_fn = activation_fn\n",
    "        \n",
    "        # create from -1 to 1\n",
    "        self.bias = np.random.rand(1, num_neurons) * 2 - 1\n",
    "        self.weights = np.random.rand(num_connections_entering, num_neurons) * 2 - 1\n",
    "        \n",
    "        self.num_connections_entering = num_connections_entering\n",
    "        self.num_neurons = num_neurons"
   ]
  },
  {
   "cell_type": "markdown",
   "metadata": {},
   "source": [
    "# Neuronal Network"
   ]
  },
  {
   "cell_type": "code",
   "execution_count": 92,
   "metadata": {},
   "outputs": [
    {
     "name": "stdout",
     "output_type": "stream",
     "text": [
      "['input 1', 'input 2']\n",
      "\n",
      "layer 0: 2 neurons\n",
      "weights\n",
      "[[ 0.26729647  0.49760777]\n",
      " [-0.00298598 -0.55040671]]\n",
      "\n",
      "bias\n",
      "[[ 0.54264129 -0.9584961 ]]\n",
      "\n",
      "layer 1: 1 neurons\n",
      "weights\n",
      "[[ 0.52106142]\n",
      " [-0.66177833]]\n",
      "\n",
      "bias\n",
      "[[-0.60387427]]\n",
      "\n"
     ]
    }
   ],
   "source": [
    "np.random.seed(10)\n",
    "\n",
    "def create_neural_network():\n",
    "    neuralNetwork = [\n",
    "        NeuralLayer(num_connections_entering=2, num_neurons=2, activation_fn=sigmoid),\n",
    "        NeuralLayer(num_connections_entering=2, num_neurons=1, activation_fn=sigmoid),\n",
    "    ]\n",
    "    \n",
    "    return neuralNetwork\n",
    "    \n",
    "XOR = create_neural_network()\n",
    "\n",
    "def print_neural_network(neuralNetwork):\n",
    "    list_indexes = list(range(neuralNetwork[0].num_connections_entering))\n",
    "    inputs_names = list(map(lambda i: f\"input {i + 1}\", list_indexes))\n",
    "    \n",
    "    print(inputs_names, end=\"\\n\\n\")\n",
    "    \n",
    "    for i, layer in enumerate(neuralNetwork):\n",
    "        print(f\"layer {i}: {layer.bias.shape[1]} neurons\")\n",
    "        print(\"weights\")\n",
    "        print(layer.weights, end=\"\\n\\n\")\n",
    "        print(\"bias\")\n",
    "        print(layer.bias, end=\"\\n\\n\")\n",
    "        \n",
    "print_neural_network(XOR)"
   ]
  },
  {
   "cell_type": "code",
   "execution_count": 93,
   "metadata": {},
   "outputs": [
    {
     "name": "stdout",
     "output_type": "stream",
     "text": [
      "Current behavior\n",
      "[[0.         0.         0.38751439]\n",
      " [0.         1.         0.40262198]\n",
      " [1.         0.         0.37772657]\n",
      " [1.         1.         0.39649398]]\n",
      "\n"
     ]
    }
   ],
   "source": [
    "def foward_pass(neural_network, inputs, cost_function, print_it=True):\n",
    "    input_to_layer = inputs\n",
    "    steps = [(None, inputs)]\n",
    "    \n",
    "    for _, layer in enumerate(neural_network):\n",
    "        ponderate_sum = input_to_layer @ layer.weights + layer.bias\n",
    "        input_to_layer = activation = layer.activation_fn[0](ponderate_sum)\n",
    "        \n",
    "        steps.append((ponderate_sum, activation))\n",
    "    \n",
    "    if print_it:\n",
    "        prediction = np.hstack((inputs, input_to_layer))\n",
    "        print(\"Current behavior\")\n",
    "        print(prediction, end=\"\\n\\n\")\n",
    "    \n",
    "    return steps\n",
    "\n",
    "steps = foward_pass(XOR, input_dataset, mean_square_error)"
   ]
  },
  {
   "cell_type": "code",
   "execution_count": 94,
   "metadata": {},
   "outputs": [],
   "source": [
    "def backpropagation(neural_network, inputs, outputs, cost_function, show, learning_rate = 2.7):\n",
    "    steps = foward_pass(neural_network, inputs, cost_function, show)\n",
    "    deltas = [None] * len(neural_network)\n",
    "    \n",
    "    next_layer_weights = None\n",
    "    num_layers, num_inputs = len(neural_network), inputs.shape[0]\n",
    "\n",
    "    for i in reversed(range(num_layers)):\n",
    "        ponderate_sum, activation = steps[i + 1]\n",
    "        _, activation_last_layer = steps[i]\n",
    "        \n",
    "        if i == num_layers - 1:\n",
    "            cost_activation = cost_function[1](activation, outputs)\n",
    "        else:\n",
    "            cost_activation = deltas[i + 1] @ next_layer_weights.T / num_inputs\n",
    "            \n",
    "        activation_ponderate = neural_network[i].activation_fn[1](ponderate_sum)\n",
    "        \n",
    "        deltas[i] = delta = cost_activation * activation_ponderate\n",
    "        \n",
    "        gradient_weights = (activation_last_layer.T @ delta) / num_inputs\n",
    "        gradient_bias = np.mean(delta, axis=0, keepdims=True)\n",
    "        \n",
    "        next_layer_weights = neural_network[i].weights\n",
    "        \n",
    "        neural_network[i].bias -= learning_rate * gradient_bias\n",
    "        neural_network[i].weights -= learning_rate * gradient_weights\n",
    "        \n",
    "    error = cost_function[0](steps[-1][1], outputs)\n",
    "    return error"
   ]
  },
  {
   "cell_type": "code",
   "execution_count": 95,
   "metadata": {},
   "outputs": [
    {
     "name": "stdout",
     "output_type": "stream",
     "text": [
      "Current behavior\n",
      "[[0.         0.         0.38751439]\n",
      " [0.         1.         0.40262198]\n",
      " [1.         0.         0.37772657]\n",
      " [1.         1.         0.39649398]]\n",
      "\n",
      "current error = 0.26286489658054046\n",
      "['input 1', 'input 2']\n",
      "\n",
      "layer 0: 2 neurons\n",
      "weights\n",
      "[[ 0.26793513  0.49649641]\n",
      " [-0.00221536 -0.55059627]]\n",
      "\n",
      "bias\n",
      "[[ 0.54398395 -0.95980589]]\n",
      "\n",
      "layer 1: 1 neurons\n",
      "weights\n",
      "[[ 0.55005757]\n",
      " [-0.64826642]]\n",
      "\n",
      "bias\n",
      "[[-0.56005944]]\n",
      "\n",
      "new error = 0.2596088606743891\n",
      "difference = 0.0032560359061513666\n",
      "\n"
     ]
    }
   ],
   "source": [
    "def show_step(neural_network, input_dataset, output_dataset, cost_function, show):\n",
    "    error_before = backpropagation(neural_network, input_dataset, output_dataset, cost_function, show)\n",
    "    print(f\"current error = {error_before}\")\n",
    "    \n",
    "    if show: \n",
    "        steps = foward_pass(neural_network, input_dataset, cost_function, False)\n",
    "        error_after = cost_function[0](steps[-1][1], output_dataset)\n",
    "        \n",
    "        print_neural_network(neural_network)\n",
    "        \n",
    "        print(f\"new error = {error_after}\")\n",
    "        print(f\"difference = {abs(error_before - error_after)}\", end=\"\\n\\n\")\n",
    "        \n",
    "    return error_before\n",
    "        \n",
    "x = show_step(XOR, input_dataset, output_dataset, mean_square_error, True)"
   ]
  },
  {
   "cell_type": "code",
   "execution_count": 96,
   "metadata": {},
   "outputs": [],
   "source": [
    "errors = []"
   ]
  },
  {
   "cell_type": "code",
   "execution_count": 97,
   "metadata": {},
   "outputs": [
    {
     "data": {
      "application/vnd.jupyter.widget-view+json": {
       "model_id": "7eabb52ae3af427da3c5cc6e82159690",
       "version_major": 2,
       "version_minor": 0
      },
      "text/plain": [
       "interactive(children=(IntSlider(value=2750, description='times', max=5500, min=1), Button(description='Run Int…"
      ]
     },
     "metadata": {},
     "output_type": "display_data"
    }
   ],
   "source": [
    "@interact_manual(times = (1, 5500))\n",
    "def trainXOR(times):\n",
    "    global errors\n",
    "    for i in range(times):\n",
    "        error = show_step(XOR, input_dataset, output_dataset, mean_square_error, False)\n",
    "        errors.append(error)\n",
    "        "
   ]
  },
  {
   "cell_type": "code",
   "execution_count": 98,
   "metadata": {},
   "outputs": [
    {
     "data": {
      "image/png": "[encoded data removed]",
      "text/plain": [
       "<Figure size 432x288 with 1 Axes>"
      ]
     },
     "metadata": {
      "needs_background": "light"
     },
     "output_type": "display_data"
    }
   ],
   "source": [
    "plt.plot(errors) \n",
    "plt.show() "
   ]
  }
 ],
 "metadata": {
  "kernelspec": {
   "display_name": "Python 3",
   "language": "python",
   "name": "python3"
  },
  "language_info": {
   "codemirror_mode": {
    "name": "ipython",
    "version": 3
   },
   "file_extension": ".py",
   "mimetype": "text/x-python",
   "name": "python",
   "nbconvert_exporter": "python",
   "pygments_lexer": "ipython3",
   "version": "3.7.4"
  }
 },
 "nbformat": 4,
 "nbformat_minor": 2
}
