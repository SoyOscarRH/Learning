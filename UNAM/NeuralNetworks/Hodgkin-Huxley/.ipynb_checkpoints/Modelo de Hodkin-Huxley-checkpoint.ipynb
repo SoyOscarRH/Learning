{
 "cells": [
  {
   "cell_type": "code",
   "execution_count": 63,
   "metadata": {},
   "outputs": [],
   "source": [
    "%matplotlib inline\n",
    "\n",
    "# A ton of imports\n",
    "from IPython.display import display\n",
    "import ipywidgets as widgets\n",
    "from ipywidgets import interact, interact_manual, interactive, fixed\n",
    "from IPython.core.pylabtools import figsize\n",
    "import numpy as np\n",
    "import matplotlib.pyplot as plt\n",
    "import json\n",
    "import matplotlib\n",
    "import math\n",
    "\n",
    "styles = json.load(open(\"styles/bmh_matplotlibrc.json\"))\n",
    "matplotlib.rcParams.update(styles)\n",
    "\n",
    "figsize(11, 5)\n",
    "colors = [\"#348ABD\", \"#A60628\", \"#06A628\"]\n",
    "\n",
    "# Remueve esta línea de código, pues agregarás tus propias funciones\n",
    "#from HodkinHuxley.EulerSimulation import *"
   ]
  },
  {
   "cell_type": "markdown",
   "metadata": {},
   "source": [
    "# Modelo de Hodkin-Huxley\n",
    "\n",
    "\\begin{align}\n",
    " C_m \\frac{dV}{dt} &= -g_{Na}m^3h(V-E_{Na}) - g_K n^4 (V - E_K) \\label{eq:huxley_voltage} \\\\ \\nonumber\n",
    "                   &- g_L (V - E_L) + I_{ext} \\\\\n",
    " \\frac{1}{\\gamma(T)} \\frac{dn}{dt} &= \\alpha_n(V) (1 - n) - \\beta_n(V)n = \\frac{n^{\\infty}(V) - n}{\\tau_n(V)} \\label{eq:huxley_sodio} \\\\\n",
    " \\frac{1}{\\gamma(T)} \\frac{dm}{dt} &= \\alpha_m(V) (1 - m) - \\beta_m(V)m = \\frac{m^{\\infty}(V) - m}{\\tau_m(V)} \\label{eq:huxley_sodio_compuerta} \\\\\n",
    " \\frac{1}{\\gamma(T)} \\frac{dh}{dt} &= \\alpha_h(V) (1 - h) - \\beta_h(V)h = \\frac{h^{\\infty}(V) - h}{\\tau_h(V)} \\label{eq:huxley_sodio_puerta} \\\\\n",
    " \\tau_n(V) &= \\frac{1}{\\alpha_n(V) + \\beta_n(V)} \\\\\n",
    " n_{\\infty}(V) &= \\frac{\\alpha_n(V)}{\\alpha_n(V) + \\beta_n(V)}\n",
    "\\end{align}"
   ]
  },
  {
   "cell_type": "markdown",
   "metadata": {
    "collapsed": true
   },
   "source": [
    "Con [Wells]:\n",
    "* $C_m = 1.0\\ \\mu\\text{F/cm}^2$ la capacitancia de la membrana por unidad de área\n",
    "* $V$ la diferencia de potencial en la membrana\n",
    "* $g_{Na} = 120\\ \\text{mS/cm}^2$ la conductancia máxima por unidad de área para el sodio\n",
    "* $g_{K} = 36\\ \\text{mS/cm}^2$ la conductancia máxima por unidad de área para el potasio\n",
    "* $g_{L} = 0.3\\ \\text{mS/cm}^2$ la conductancia adicional, independiente del voltaje\n",
    "* $E_{Na} = 55\\ \\text{mV}$ el voltaje de la batería en la compuerta de sodio\n",
    "* $E_{K} = -72\\ \\text{mV}$ el voltaje de la batería en la compuerta de potasio\n",
    "* $E_{L} = -49.387\\ \\text{mV}$ el voltaje filtrado\n",
    "* $\\gamma(T)$ es una constante de proporcionalidad temporal que depende de la temperatura $T$, a $6.3°$C vale $1$ [Cessac2009].\n",
    "\n",
    "para el caso del calamar.  Los potenciales están medidos considerando que la membrana se encuentra en su potencial de reposo a los $V_r = -60\\ \\text{mV}$.  Las corrientes $I$ están medidas en $\\mu$A/cm$^2$.\n",
    "\n",
    "Las funciones de transición $\\alpha(V)$ y $\\beta(V)$, fueron determinadas experimentalmente.  Su forma general es:\n",
    "\\begin{align}\n",
    "  \\alpha(V) \\text{ ó } \\beta(V) = \\frac{A + BV}{C + H e^{\\left(\\frac{V+D}{F}\\right)}}\n",
    "\\end{align}\n",
    "donde $V$ está medido con respecto al potencial de reposo $V_r$\n",
    "\n",
    "Los valores medidos por Hodkin y Huxley para la compuerta de **potasio (K)**, fueron:\n",
    "\\begin{align}\n",
    "  \\alpha_n(V) &= \\frac{0.01(10 - V)}{e^{\\left(\\frac{10-V}{10}\\right)} - 1} & \\beta_n(V) &= 0.125 e^{-\\frac{V}{80}}\n",
    "\\end{align}\n",
    "Observemos que cuando $V = 10$ la función está indefinida.  Utilizando la regla de L'Hopital, se calcula el límite:\n",
    "\\begin{align}\n",
    "  \\alpha_n(10) &= \\frac{-0.01}{e^{\\left(\\frac{10-V}{10}\\right)}(-0.1)}\n",
    "               = \\frac{-0.01}{-0.1} = 0.1\n",
    "\\end{align}"
   ]
  },
  {
   "cell_type": "code",
   "execution_count": 64,
   "metadata": {},
   "outputs": [
    {
     "data": {
      "application/vnd.jupyter.widget-view+json": {
       "model_id": "84c505d9ada745619a7f70105be435a0",
       "version_major": 2,
       "version_minor": 0
      },
      "text/plain": [
       "interactive(children=(FloatSlider(value=0.1, description='step', max=0.15, min=0.0001, step=0.001), Output()),…"
      ]
     },
     "metadata": {},
     "output_type": "display_data"
    }
   ],
   "source": [
    "# Programa las función alfa_n como función del voltaje V.\n",
    "# Necesitarás definir un caso especial cuando V - 10 < epsilon\n",
    "# Utiliza esta celda para ver como se comporta tu función en esta vecindad\n",
    "# y elegir un valor de epsilon adecuado\n",
    "\n",
    "\n",
    "def single_alpha_n(voltage: float) -> float:\n",
    "    if math.isclose(voltage, 10):\n",
    "        return 0.1\n",
    "    else:\n",
    "        up = 0.01 * (10 - voltage)\n",
    "        down = math.exp((10 - voltage) / 10) - 1\n",
    "        return up / down\n",
    "\n",
    "\n",
    "alpha_n = np.vectorize(single_alpha_n)\n",
    "\n",
    "\n",
    "@interact(step=widgets.FloatSlider(min=0.0001, max=0.1500, step=0.0010, value=0.1000))\n",
    "def plotAlphaLimit(step):\n",
    "    voltages = np.arange(9, 11, step)\n",
    "    alpha = alpha_n(voltages)\n",
    "    plt.plot(voltages, alpha)\n"
   ]
  },
  {
   "cell_type": "code",
   "execution_count": 65,
   "metadata": {
    "scrolled": true
   },
   "outputs": [
    {
     "data": {
      "image/png": "[encoded data removed]",
      "text/plain": [
       "<Figure size 792x360 with 1 Axes>"
      ]
     },
     "metadata": {
      "needs_background": "light"
     },
     "output_type": "display_data"
    }
   ],
   "source": [
    "# Programa la funciones como función del voltaje V, para la compuerta de K\n",
    "# Genera luego una gráfica de alfa_n y beta_n\n",
    "beta_n = np.vectorize(lambda voltage: 0.125 * math.exp(-voltage / 80))\n",
    "\n",
    "\n",
    "def plotAlpha():\n",
    "    V = np.linspace(-150, 150)\n",
    "    alpha = alpha_n(V)\n",
    "    beta = beta_n(V)\n",
    "    plt.plot(V, alpha, label=\"$\\\\alpha(V)$\")\n",
    "    plt.plot(V, beta, label=\"$\\\\beta(V)$\")\n",
    "    plt.title(\"Tazas de transición\")\n",
    "    plt.xlabel(\"$V$ con respecto a $V_r$ (mV)\")\n",
    "    plt.ylabel(\"$taza$ (ms$^{-1}$)\")\n",
    "    plt.legend()\n",
    "\n",
    "\n",
    "plotAlpha()"
   ]
  },
  {
   "cell_type": "markdown",
   "metadata": {},
   "source": [
    "Las funciones para el **sodio (Na)** son:\n",
    "\\begin{align}\n",
    "  \\alpha_m(V) &= \\frac{0.1(25 - V)}{e^{\\left(\\frac{25-V}{10}\\right)} - 1} & \\beta_m(V) &= 4 e^{-\\frac{V}{18}} \\\\\n",
    "  \\alpha_h(V) &= 0.07 e^{-\\frac{V}{20}} & \\beta_h(V) &= \\frac{1}{e^{\\left(\\frac{30-V}{10}\\right)} + 1}\n",
    "\\end{align}\n",
    "Para $\\alpha_m$ cuando $V = 25$, utilizamos la regla de L'Hopital para calcular el límite:\n",
    "\\begin{align}\n",
    "  \\alpha_m(25) &= \\frac{-0.1}{e^{\\left(\\frac{25-V}{10}\\right)}(-0.1)}\n",
    "               = \\frac{-0.1}{-0.1} = 1\n",
    "\\end{align}"
   ]
  },
  {
   "cell_type": "code",
   "execution_count": 69,
   "metadata": {
    "scrolled": true
   },
   "outputs": [
    {
     "data": {
      "image/png": "[encoded data removed]",
      "text/plain": [
       "<Figure size 864x432 with 2 Axes>"
      ]
     },
     "metadata": {
      "needs_background": "light"
     },
     "output_type": "display_data"
    }
   ],
   "source": [
    "# Algo anda mal aqui !!!!!!!\n",
    "\n",
    "# Dadas alfa y beta, calcular ahora y graficar n y tau para ambos canales.\n",
    "tau = np.vectorize(lambda alpha, beta: 1 / alpha + beta)\n",
    "n = np.vectorize(lambda alpha, beta: alpha / alpha + beta)\n",
    "\n",
    "# Agrega las funciones correspondientes para la compuerta de sodio también,\n",
    "# deduce sus firmas a partir de las llamadas en la función para graficar\n",
    "\n",
    "def single_alpha_m(voltage: float) -> float:\n",
    "    if math.isclose(voltage, 25):\n",
    "        return 1\n",
    "    else:\n",
    "        up = 0.1 * (25 - voltage)\n",
    "        down = math.exp((25 - voltage) / 10) - 1\n",
    "        return up / down\n",
    "\n",
    "alpha_m = np.vectorize(single_alpha_m)\n",
    "alpha_h = np.vectorize(lambda voltage: 0.07 * math.exp(-voltage / 20))\n",
    "\n",
    "beta_m = np.vectorize(lambda voltage: 4 * math.exp(-voltage / 18))\n",
    "beta_h = np.vectorize(lambda voltage: 1 / (math.exp((30 - voltage) / 10) + 1))\n",
    "\n",
    "# Graph\n",
    "\n",
    "\n",
    "def plotParameters():\n",
    "    fig, axes = plt.subplots(1, 2, figsize=(12, 6))\n",
    "    V = np.linspace(-100, 100)\n",
    "\n",
    "    alpha = alpha_n(V)\n",
    "    beta = beta_n(V)\n",
    "    axes[0].plot(V, n(alpha, beta), label=\"$n_{\\infty}(V)$\")\n",
    "    axes[1].plot(V, tau(alpha, beta), label=\"$\\\\tau_{n}(V)$\")\n",
    "\n",
    "    alpha = alpha_m(V)\n",
    "    beta = beta_m(V)\n",
    "    axes[0].plot(V, n(alpha, ]beta), label=\"$m_{\\infty}(V)$\")\n",
    "    axes[1].plot(V, tau(alpha, beta), label=\"$\\\\tau_{m}(V)$\")\n",
    "\n",
    "    alpha = alpha_h(V)\n",
    "    beta = beta_h(V)\n",
    "    axes[0].plot(V, n(alpha, beta), label=\"$h_{\\infty}(V)$\")\n",
    "    axes[1].plot(V, tau(alpha, beta), label=\"$\\\\tau_{h}(V)$\")\n",
    "\n",
    "    axes[0].set_title(\"Tazas de transición\")\n",
    "    axes[0].set_xlabel(\"$V$ realtivo a $V_r$ (mV)\")\n",
    "    axes[0].set_ylabel(\"adimensional\")\n",
    "    axes[0].legend(loc=2)\n",
    "    axes[1].set_title(\"Constantes temporales\")\n",
    "    axes[1].set_xlabel(\"$V$ realtivo a $V_r$ (mV)\")\n",
    "    axes[1].set_ylabel(\"$\\\\tau$ (ms)\")\n",
    "    axes[1].legend(loc=2)\n",
    "\n",
    "\n",
    "plotParameters()"
   ]
  },
  {
   "cell_type": "markdown",
   "metadata": {},
   "source": [
    "## Simulación con el método numérico de Euler\n",
    "\n",
    "El método de Euler realiza una aproxima a la función por su tangente.  Dada una ecuación diferencial de la forma:\n",
    "\n",
    "\\begin{align}\n",
    "  \\frac{dy(t)}{dt} = f(y(t))\n",
    "\\end{align}\n",
    "\n",
    "Partimos de un punto inicial $(t_0, y_0)$ y a partir de él, se calcula el valor de $y$ para el tiempo $t + \\Delta t$ iterativamente como:\n",
    "\n",
    "\\begin{align}\n",
    "  y(t + \\Delta t) &= y(t) + \\Delta t f(y(t))\n",
    "\\end{align}\n",
    "\n",
    "El error aproximado por realizar esta aproximación es:\n",
    "\\begin{align}\n",
    "  E =& \\frac{1}{2} \\frac{df(t)}{dt}(\\Delta t)^2\n",
    "\\end{align}\n",
    "\n",
    "Aplicando esta fórmula a la ecuación para los canales:\n",
    "\n",
    "\\begin{align}\n",
    " \\frac{dn}{dt} &= \\frac{n^{\\infty}(V) - n}{\\tau_n(V)}\n",
    "\\end{align}\n",
    "\n",
    "Obtenemos:\n",
    "\n",
    "\\begin{align}\n",
    " n(t + \\Delta t) =& n(t) + \\Delta t \\left[\\frac{n^{\\infty}(V)}{\\tau_n} - \\frac{n(t)}{\\tau_n(V)} \\right] \\\\\n",
    "                 =& \\left[ 1 - \\frac{\\Delta t}{\\tau_n(V)} \\right] n(t) + \\frac{\\Delta t}{\\tau_n(V)}n^{\\infty}(V)\n",
    "\\end{align}"
   ]
  },
  {
   "cell_type": "markdown",
   "metadata": {},
   "source": [
    "Se obtienen fórmulas análogas para $m$ y $h$.  Todas juntas pueden ser escritas en forma matricial:\n",
    "\n",
    "\\begin{align}\n",
    "  \\begin{bmatrix}\n",
    "  n(t + \\Delta t) \\\\\n",
    "  m(t + \\Delta t) \\\\\n",
    "  h(t + \\Delta t)\n",
    "  \\end{bmatrix} =& \n",
    "  \\begin{bmatrix}\n",
    "  (1 - \\Delta t/\\tau_n(V)) & 0 & 0 \\\\\n",
    "  0 & (1 - \\Delta t/\\tau_m(V)) & 0 \\\\\n",
    "  0 & 0 & (1 - \\Delta t/\\tau_h(V)) \\\\\n",
    "  \\end{bmatrix}\n",
    "  \\begin{bmatrix}\n",
    "  n(t) \\\\\n",
    "  m(t) \\\\\n",
    "  h(t)\n",
    "  \\end{bmatrix} +\n",
    "  \\begin{bmatrix}\n",
    "  (\\Delta t / \\tau_n(V)) n^{\\infty}(V) \\\\\n",
    "  (\\Delta t / \\tau_m(V)) m^{\\infty}(V) \\\\\n",
    "  (\\Delta t / \\tau_h(V)) h^{\\infty}(V)\n",
    "  \\end{bmatrix}\n",
    "\\end{align}\n",
    "\n",
    "Brevemente:\n",
    "\n",
    "\\begin{align}\n",
    "  \\boldsymbol{\\Pi}(t + \\Delta t) =& \\boldsymbol{A}_\\pi \\boldsymbol{\\Pi}(t) + \\boldsymbol{B}_\\pi\n",
    "\\end{align}"
   ]
  },
  {
   "cell_type": "markdown",
   "metadata": {},
   "source": [
    "Se debe realizar el mismo procedimiento con la ecuación diferencial para el voltaje.  Para simplificar la notación, introduzcamos:\n",
    "\n",
    "\\begin{align}\n",
    "  G_{Na} &= g_{Na}m^3h   &   G_{K} &= g_K n^4\n",
    "\\end{align}\n",
    "\n",
    "Entonces:\n",
    "\\begin{align}\n",
    " C_m \\frac{dV}{dt} &= -g_{Na}m^3h(V-E_{Na}) - g_K n^4 (V - E_K) - g_L (V - E_L) + I_{ext} \\\\\n",
    " \\frac{dV}{dt} &= -\\frac{G_{Na}}{C_m}(V-E_{Na}) - \\frac{G_K}{C_m} (V - E_K) - \\frac{g_L}{C_m} (V - E_L) + \\frac{1}{C_m}I_{ext}\n",
    "\\end{align}"
   ]
  },
  {
   "cell_type": "markdown",
   "metadata": {},
   "source": [
    "Utilizando el método de Euler:\n",
    "\n",
    "\\begin{align}\n",
    " V(t + \\Delta t) &= V(t) - \\frac{\\Delta t}{C_m} \\left[ G_{Na}(V-E_{Na}) + G_K (V - E_K) + g_L (V - E_L) + I_{ext}(t) \\right] \\\\\n",
    " V(t + \\Delta t) &= V(t) - \\Delta t \\begin{bmatrix} \\frac{G_{Na}}{C_m} & \\frac{G_K}{C_m} & \\frac{g_L}{C_m} \\end{bmatrix}  \\begin{bmatrix}\n",
    "                 V(t)-E_{Na} \\\\\n",
    "                 V(t)- E_K \\\\\n",
    "                 V(t) - E_L\n",
    "                \\end{bmatrix} + \\frac{\\Delta t}{C_m}I_{ext}(t)\n",
    "\\end{align}"
   ]
  },
  {
   "cell_type": "markdown",
   "metadata": {},
   "source": [
    "Para los valores por defecto propuestos en la celda siguiente, programar una simulación utilizando el método de Euler produce la figura siguiente:\n",
    "\n",
    "<img src=\"figuras/Simulacion.png\">"
   ]
  },
  {
   "cell_type": "code",
   "execution_count": null,
   "metadata": {
    "scrolled": true
   },
   "outputs": [],
   "source": [
    "parametros = {\n",
    "    'DeltaT' : 0.01,   # ms\n",
    "    'maxT' : 50.0,     # ms    \n",
    "    'V0' : 0.0,        # mV\n",
    "    'gNa' : 120.0,     # mS/cm2\n",
    "    'gK' : 36.0,\n",
    "    'gL' : 0.3,\n",
    "    'Cm' : 1.0,          # micro F/cm2\n",
    "    'ENa' : 115.0,     # Utilizando la convensión original de Hodkin-Huxley\n",
    "    'EK' : -12.0,\n",
    "    'EL' : 10.613\n",
    "    }\n",
    "\n",
    "def makeIext(t0 = 10.0, tfin = 16.0, current = 6.5):\n",
    "    def Iext(t):\n",
    "        \"\"\" Devuelve el valor de la corriente aplicada a la membrana, al tiempo t, en microampers.\n",
    "        \"\"\"\n",
    "        if t > t0 and t < tfin:\n",
    "            return current    # micro A/cm2\n",
    "        else:\n",
    "            return 0\n",
    "    return Iext\n",
    "\n",
    "## Implementa aquí el algoritmo de intregración numérica de Euler para calcular V(t)\n",
    "##\n",
    "## Asegúrate de que, al ejecutar la simulación con los parámetros por defecto,\n",
    "## se reproduce la imagen de arriba.\n",
    "##\n",
    "## Después prueba con pulsos de t en 10->30, con corrientes de 10 y -10 microamperes\n",
    "## ¿Qué observas?\n",
    "##\n",
    "## Inserta al final una celda con tus comentarios y resultados\n",
    "\n",
    "def plotSimulation(resultado):\n",
    "    fig, axes = plt.subplots(2, 2, figsize=(12,10))\n",
    "    tiempo = resultado['T']\n",
    "    axes[0][0].plot(tiempo, resultado['V'])\n",
    "    \n",
    "    axes[0][0].set_title(\"Voltaje en la membrana\")\n",
    "    axes[0][0].set_xlabel(\"t (ms)\")\n",
    "    axes[0][0].set_ylabel(\"Voltaje relativo en la membrana (mV)\")\n",
    "        \n",
    "    axes[0][1].plot(tiempo, resultado['GK'], label=\"$G_{K}$\")\n",
    "    axes[0][1].plot(tiempo, resultado['GNa'], label=\"$G_{Na}$\")\n",
    "    \n",
    "    axes[0][1].set_title(\"Conductancia de los canales\")\n",
    "    axes[0][1].set_ylabel(\"Conductancia (mS/cm$^2$)\")\n",
    "    axes[0][1].set_xlabel(\"t (ms)\")\n",
    "    axes[0][1].legend()\n",
    "    \n",
    "    axes[1][0].plot(tiempo, resultado['n'], label=\"$n$\")\n",
    "    axes[1][0].plot(tiempo, resultado['m'], label=\"$m$\")\n",
    "    axes[1][0].plot(tiempo, resultado['h'], label=\"$h$\")\n",
    "    axes[1][0].set_title(\"Tazas de transición\")\n",
    "    axes[1][0].set_xlabel(\"t (ms)\")\n",
    "    axes[1][0].set_ylabel(\"adimensional\")\n",
    "    axes[1][0].legend()\n",
    "    \n",
    "    axes[1][1].plot(tiempo, resultado['tauN'], label=\"$\\\\tau_n$\")\n",
    "    axes[1][1].plot(tiempo, resultado['tauM'], label=\"$\\\\tau_m$\")\n",
    "    axes[1][1].plot(tiempo, resultado['tauH'], label=\"$\\\\tau_h$\")\n",
    "    axes[1][1].set_title(\"Constantes temporales\")\n",
    "    axes[1][1].set_xlabel(\"t (ms)\")\n",
    "    axes[1][1].set_ylabel(\"$\\\\tau$ (ms)\")\n",
    "    axes[1][1].legend()\n",
    "    \n",
    "\n",
    "@interact_manual(\n",
    "    V0 = widgets.FloatSlider(min=-90, max=120, step=1, value=parametros['V0']),\n",
    "    current = widgets.FloatSlider(min=-10, max=10, step=0.1, value=2.4),\n",
    "    t0 = 10.0,\n",
    "    tfin = 16.0\n",
    ")\n",
    "def simulaHodkinHuxley(V0, t0, tfin, current):\n",
    "    parametros['Iext'] = makeIext(t0, tfin, current)\n",
    "    parametros['V0'] = V0\n",
    "    resultado = EulerHodkinHuxley(**parametros)\n",
    "    plotSimulation(resultado)"
   ]
  },
  {
   "cell_type": "code",
   "execution_count": null,
   "metadata": {},
   "outputs": [],
   "source": [
    "from IPython.core.display import HTML\n",
    "def css_styling():\n",
    "    styles = open(\"styles/custom.css\", \"r\").read() #or edit path to custom.css\n",
    "    return HTML(styles)\n",
    "css_styling()"
   ]
  }
 ],
 "metadata": {
  "kernelspec": {
   "display_name": "Python 3",
   "language": "python",
   "name": "python3"
  },
  "language_info": {
   "codemirror_mode": {
    "name": "ipython",
    "version": 3
   },
   "file_extension": ".py",
   "mimetype": "text/x-python",
   "name": "python",
   "nbconvert_exporter": "python",
   "pygments_lexer": "ipython3",
   "version": "3.7.4"
  }
 },
 "nbformat": 4,
 "nbformat_minor": 1
}
