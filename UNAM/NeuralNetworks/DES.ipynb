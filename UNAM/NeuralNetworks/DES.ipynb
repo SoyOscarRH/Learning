{
 "cells": [
  {
   "cell_type": "code",
   "execution_count": 81,
   "metadata": {},
   "outputs": [],
   "source": [
    "getHex = lambda x: str(hex(x)).upper()[2:]\n",
    "getBin = lambda x, : str(bin(int(x, 16)))[2:]\n",
    "\n",
    "by_four = lambda a: ' '.join([a[i:i + 4] for i in range(0, len(a), 4)])"
   ]
  },
  {
   "cell_type": "code",
   "execution_count": 97,
   "metadata": {
    "scrolled": true
   },
   "outputs": [],
   "source": [
    "def K(C: str, D: str, num_shift):\n",
    "    def to_28_bin(hex_string):\n",
    "        bin_string = getBin(hex_string)\n",
    "        missing = 28 - len(bin_string)\n",
    "        bin_string = (\"0\" * missing) + bin_string\n",
    "        return bin_string\n",
    "    \n",
    "    def shift_n(data, n):\n",
    "        end = data[-n:]\n",
    "        start = data[:-n]\n",
    "        \n",
    "        return end + start\n",
    "\n",
    "    binC_string = to_28_bin(C)\n",
    "    binD_string = to_28_bin(D)\n",
    "    print (\"Original: \")\n",
    "    print(by_four(binC_string))\n",
    "    print(by_four(binD_string))\n",
    "    \n",
    "    print (\"Shifted: \")\n",
    "    binC_string = shift_n(binC_string, num_shift)\n",
    "    binD_string = shift_n(binD_string, num_shift)\n",
    "    \n",
    "    print(by_four(binC_string))\n",
    "    print(by_four(binD_string))\n",
    "    \n",
    "    print (len(binC_string + binD_string))\n",
    "    \n",
    "    return getHex(int(binC_string + binD_string, 2))\n"
   ]
  },
  {
   "cell_type": "code",
   "execution_count": 98,
   "metadata": {},
   "outputs": [
    {
     "name": "stdout",
     "output_type": "stream",
     "text": [
      "Original: \n",
      "0000 0001 1111 1111 1111 1101 0000\n",
      "0101 0100 0011 1000 0000 0000 0101\n",
      "Shifted: \n",
      "0000 0000 1111 1111 1111 1110 1000\n",
      "1010 1010 0001 1100 0000 0000 0010\n",
      "56\n"
     ]
    },
    {
     "data": {
      "text/plain": [
       "'FFFE8AA1C002'"
      ]
     },
     "execution_count": 98,
     "metadata": {},
     "output_type": "execute_result"
    }
   ],
   "source": [
    "K(\"01FFFD0\", \"5438005\", 1)"
   ]
  },
  {
   "cell_type": "code",
   "execution_count": 88,
   "metadata": {},
   "outputs": [],
   "source": [
    "L0 = int(\"111000001011111011110110001001010010001001000010\", 2)\n",
    "F =  int(\"010101010100000101011000000000000001010010101001\", 2)"
   ]
  },
  {
   "cell_type": "code",
   "execution_count": 102,
   "metadata": {},
   "outputs": [
    {
     "name": "stdout",
     "output_type": "stream",
     "text": [
      "48\n",
      "0b10101010001011000000000010010100\n"
     ]
    }
   ],
   "source": [
    "R1 = L0 ^ F\n",
    "\n",
    "print(len(\"111000001011111011110110001001010010001001000010\"))\n",
    "print(bin(R1))"
   ]
  },
  {
   "cell_type": "code",
   "execution_count": 90,
   "metadata": {},
   "outputs": [],
   "source": [
    "L2 = R1"
   ]
  }
 ],
 "metadata": {
  "kernelspec": {
   "display_name": "Python 3",
   "language": "python",
   "name": "python3"
  }
 },
 "nbformat": 4,
 "nbformat_minor": 2
}
