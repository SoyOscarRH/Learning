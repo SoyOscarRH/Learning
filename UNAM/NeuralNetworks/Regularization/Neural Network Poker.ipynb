{
 "cells": [
  {
   "cell_type": "markdown",
   "metadata": {},
   "source": [
    "## My Neural Network"
   ]
  },
  {
   "cell_type": "code",
   "execution_count": 2,
   "metadata": {},
   "outputs": [],
   "source": [
    "import numpy as np\n",
    "import scipy as sc\n",
    "\n",
    "import matplotlib.pyplot as plt\n",
    "\n",
    "from ipywidgets import interact, interactive, fixed, interact_manual\n",
    "import ipywidgets as widgets\n",
    "from IPython.display import display"
   ]
  },
  {
   "cell_type": "markdown",
   "metadata": {},
   "source": [
    "## Treat input and output"
   ]
  },
  {
   "cell_type": "code",
   "execution_count": 49,
   "metadata": {},
   "outputs": [],
   "source": [
    "def to_1_hot_encoding(output):\n",
    "    one_hot = [0] * 10\n",
    "    one_hot[int(output)] = 1\n",
    "    \n",
    "    return one_hot"
   ]
  },
  {
   "cell_type": "markdown",
   "metadata": {},
   "source": [
    "## Datasets"
   ]
  },
  {
   "cell_type": "code",
   "execution_count": 51,
   "metadata": {},
   "outputs": [],
   "source": [
    "raw_data = np.loadtxt(\"poker-hand-training-true.data\", delimiter=\",\")\n",
    "\n",
    "np.random.seed(10)\n",
    "np.random.shuffle(raw_data)\n",
    "ratio = 85 * raw_data.shape[0] // 100\n",
    "training, test = raw_data[:ratio, :], raw_data[ratio:, :]\n",
    "\n",
    "training_input, training_output = training[:, :-1], training[:, -1]\n",
    "test_input, test_output = test[:, :-1], test[:, -1]\n",
    "\n",
    "training_output_hot = np.array(list(map(to_1_hot_encoding, training_output)))\n",
    "test_output_hot = np.array(list(map(to_1_hot_encoding, test_output)))"
   ]
  },
  {
   "cell_type": "markdown",
   "metadata": {},
   "source": [
    "## Activation functions"
   ]
  },
  {
   "cell_type": "code",
   "execution_count": 56,
   "metadata": {},
   "outputs": [],
   "source": [
    "# function, derivate\n",
    "sigm = lambda x : 1 / (1 + np.exp(-x))\n",
    "\n",
    "sigmoid = (\n",
    "    lambda x : sigm(x),\n",
    "    lambda x : sigm(x) * (1 - sigm(x))\n",
    ")\n",
    "\n",
    "ReLU = (\n",
    "    lambda x : x * (x > 0),\n",
    "    lambda x : 1 * (x > 0)\n",
    ")\n",
    "\n",
    "def softmax(x):\n",
    "    e_x = np.exp(x - np.max(x))\n",
    "    return e_x / e_x.sum(axis=0)\n"
   ]
  },
  {
   "cell_type": "markdown",
   "metadata": {},
   "source": [
    "### Cost function"
   ]
  },
  {
   "cell_type": "code",
   "execution_count": 53,
   "metadata": {},
   "outputs": [],
   "source": [
    "# function, derivate\n",
    "mean_square_error = (\n",
    "    lambda prediction, real : np.mean((prediction - real) ** 2),\n",
    "    lambda prediction, real : (prediction - real)\n",
    ")"
   ]
  },
  {
   "cell_type": "markdown",
   "metadata": {},
   "source": [
    "## Neural Network Layer class"
   ]
  },
  {
   "cell_type": "code",
   "execution_count": 54,
   "metadata": {},
   "outputs": [],
   "source": [
    "class NeuralLayer:\n",
    "    def __init__(self, num_connections_entering, num_neurons, activation_fn):\n",
    "        self.activation_fn = activation_fn\n",
    "        \n",
    "        # create from -1 to 1\n",
    "        self.bias = np.random.rand(1, num_neurons) * 2 - 1\n",
    "        self.weights = np.random.rand(num_connections_entering, num_neurons) * 2 - 1\n",
    "        \n",
    "        self.num_connections_entering = num_connections_entering\n",
    "        self.num_neurons = num_neurons"
   ]
  },
  {
   "cell_type": "markdown",
   "metadata": {},
   "source": [
    "# Neuronal Network"
   ]
  },
  {
   "cell_type": "code",
   "execution_count": 55,
   "metadata": {},
   "outputs": [
    {
     "name": "stdout",
     "output_type": "stream",
     "text": [
      "['input 1', 'input 2', 'input 3', 'input 4', 'input 5', 'input 6', 'input 7', 'input 8', 'input 9', 'input 10']\n",
      "\n",
      "layer 0: 25 neurons\n",
      "weights\n",
      "[[ 0.32250848 -0.85224329 -0.30431693  0.6646874  -0.87029377  0.64681388\n",
      "   0.06939591 -0.79191883  0.61148278 -0.61524591 -0.83821204  0.88359576\n",
      "  -0.5295467   0.99119552  0.64535103  0.93294845 -0.61019911 -0.22723085\n",
      "  -0.29939599  0.96512375 -0.84705954  0.37511338 -0.32438171 -0.05771315\n",
      "   0.85999471]\n",
      " [-0.20742391 -0.41444505  0.93232565  0.33715923 -0.5016634   0.17010924\n",
      "  -0.81397059  0.45920023  0.44907411  0.10680926 -0.66629128  0.53629371\n",
      "   0.18014674 -0.90398819 -0.80577343  0.22549392 -0.4190829   0.61337137\n",
      "  -0.73088194  0.79599247  0.25985784  0.48417846  0.89403799 -0.49238173\n",
      "   0.46992094]\n",
      " [-0.06387152  0.51373643 -0.54688647  0.01425519 -0.67401496 -0.47697456\n",
      "   0.62464514  0.70487996  0.45976565 -0.45296004  0.71385657  0.73325256\n",
      "  -0.06614153  0.77012256 -0.58016063  0.70903516  0.01243934  0.27666593\n",
      "  -0.46398674  0.94997351  0.83270037  0.15606561  0.87210702  0.75595142\n",
      "   0.81107214]\n",
      " [ 0.86863886  0.46619292  0.85668847 -0.11794849  0.55298798 -0.53926075\n",
      "  -0.22436907  0.23928278 -0.95039087  0.83381204 -0.51670704 -0.35347468\n",
      "   0.70828303 -0.25438727 -0.97926112 -0.56582466  0.19763815  0.36054957\n",
      "  -0.04910535 -0.93816071  0.7252417  -0.67396967  0.63402475  0.20378137\n",
      "  -0.26501874]\n",
      " [ 0.8269532  -0.29308036  0.06213124  0.17868683 -0.87244861 -0.60235099\n",
      "  -0.77739192 -0.76023275  0.91359356 -0.89535803 -0.11339879  0.55092917\n",
      "   0.69663871  0.08239051 -0.08406767  0.7988575  -0.25921812 -0.77483183\n",
      "  -0.23550384 -0.8544233   0.10558843  0.10943122  0.83375921 -0.8501225\n",
      "   0.47061067]\n",
      " [ 0.64039199 -0.16688144 -0.54556863 -0.81861256  0.08956285  0.0153279\n",
      "  -0.10748065 -0.63745981  0.79373693  0.51541278 -0.41972528  0.85354144\n",
      "  -0.76717662  0.91160807  0.87725442  0.13366947  0.05979193  0.14184938\n",
      "   0.70496148  0.81075628 -0.34796908  0.49428495 -0.71882484 -0.65347512\n",
      "  -0.55164971]\n",
      " [ 0.69280904 -0.5246313  -0.36387267 -0.27637219 -0.5987487  -0.29384661\n",
      "  -0.86123772  0.50778835  0.95425774 -0.38369988 -0.81668619 -0.20197543\n",
      "   0.29789053  0.57812662  0.76437042  0.91840969 -0.37722237 -0.42783528\n",
      "   0.27784951  0.97947563  0.08105249 -0.62805158 -0.47686639 -0.97421846\n",
      "  -0.88960591]\n",
      " [ 0.05699601 -0.33143843  0.47791708 -0.67572891  0.43566891 -0.73236376\n",
      "  -0.99921126  0.81628097  0.6593517   0.50120797  0.91412179 -0.50343513\n",
      "   0.95595279  0.01169348 -0.60927214 -0.89280941 -0.45126581  0.69093624\n",
      "   0.43507205 -0.17997381 -0.40849558 -0.98623456 -0.02468531 -0.38143349\n",
      "  -0.30391325]\n",
      " [ 0.33535842 -0.42211562 -0.80240183  0.64161521  0.06944348  0.13453524\n",
      "   0.6538736   0.21059461 -0.83187152  0.90486698  0.56193489 -0.50460809\n",
      "   0.16636706  0.46754577 -0.87035094 -0.56030372 -0.42292558 -0.32302879\n",
      "  -0.02023347  0.28631738  0.47510743  0.26957903 -0.98600051  0.2259058\n",
      "   0.49102877]\n",
      " [ 0.96577966 -0.65008269 -0.28583019  0.55264682  0.94767058  0.02544332\n",
      "  -0.51662649  0.50319235 -0.44210793 -0.2623857   0.47415364 -0.86801533\n",
      "   0.29926631  0.91205794 -0.30043914  0.88965702 -0.80930515  0.88252455\n",
      "  -0.91876456 -0.53659238 -0.79468784  0.72834821 -0.78070326  0.0235986\n",
      "   0.40069333]]\n",
      "\n",
      "bias\n",
      "[[ 0.19934451 -0.49096286  0.63136768 -0.82945466  0.73938544  0.82845743\n",
      "  -0.84158084 -0.24059941 -0.94324205 -0.57448219 -0.98648653  0.1174819\n",
      "  -0.23000358  0.75505484  0.62380184 -0.72821057 -0.22985621  0.36444643\n",
      "   0.35873     0.50500869 -0.35152613  0.581766    0.45428634 -0.56486685\n",
      "  -0.29267599]]\n",
      "\n",
      "layer 1: 12 neurons\n",
      "weights\n",
      "[[-8.57107758e-01 -5.22535750e-01  5.05402493e-01 -8.99248106e-02\n",
      "   1.12965943e-02 -7.86589177e-01  3.98610631e-01  1.41683167e-01\n",
      "   5.43657935e-01 -2.25493655e-01  2.98427121e-01 -3.47281669e-01]\n",
      " [-6.91765851e-01 -6.50772516e-01 -3.53900228e-01 -7.21286743e-01\n",
      "   4.77632226e-01 -6.26818660e-03 -9.38047050e-01 -6.93798485e-01\n",
      "  -6.35031799e-01 -4.05927684e-01 -3.57200852e-01  5.31372777e-01]\n",
      " [-5.61212468e-01  3.82347028e-01  5.66841472e-01 -4.95305952e-01\n",
      "   3.92098949e-01 -4.19597298e-02 -7.67630291e-01 -1.91198146e-01\n",
      "   6.60335522e-01 -7.35409766e-01 -1.22236828e-01 -2.24734175e-01]\n",
      " [ 7.36176645e-01  9.84513191e-01 -4.15353366e-01 -7.35825420e-01\n",
      "   7.26406513e-01  1.49275070e-01 -1.02680912e-01  5.44988419e-01\n",
      "  -1.96645761e-01  9.05262950e-01  4.58880196e-01 -5.44855976e-01]\n",
      " [-4.87195623e-02  3.98558575e-01 -2.53997504e-01  4.78947290e-01\n",
      "   5.96764585e-01 -9.78792600e-01 -6.32832596e-01  6.82146033e-01\n",
      "   7.88752250e-01 -6.55891954e-01 -8.20318861e-01 -1.70789214e-01]\n",
      " [ 1.36821068e-01 -6.84183767e-01  9.02770879e-01  1.69257182e-01\n",
      "  -2.88129491e-01  3.75044485e-01 -8.70790241e-02  8.34425066e-01\n",
      "   6.50977873e-01  7.62281688e-01  2.09502323e-01  4.25970247e-01]\n",
      " [-9.82776570e-01 -5.14962109e-01  4.91067579e-01 -2.99614352e-02\n",
      "  -6.69299838e-01  5.69086216e-01 -6.27225526e-01 -3.42488951e-01\n",
      "   6.15596402e-01 -6.48214925e-01  4.79299701e-01  5.64886569e-01]\n",
      " [ 5.49946481e-01  6.80861216e-01  5.48826496e-01  4.78915303e-01\n",
      "  -4.26894218e-01 -2.72617546e-02  5.28348947e-01  1.10848785e-01\n",
      "   9.82059776e-01 -9.89441578e-01  2.95307316e-01  1.13695897e-01]\n",
      " [-2.09933408e-01 -6.75266065e-01 -8.28197585e-01  9.13670390e-01\n",
      "   8.69057313e-01 -2.25720705e-02  2.59315742e-01 -8.50365323e-01\n",
      "  -5.38106339e-01 -1.57559708e-01 -2.53849728e-01  9.34357198e-01]\n",
      " [-5.80653505e-02  8.09050017e-01  8.97350413e-01 -1.09373089e-02\n",
      "   7.38121553e-01 -3.61228329e-01 -8.15548738e-01 -2.86741147e-01\n",
      "  -7.51633807e-01 -5.66163616e-01 -1.35796517e-01 -1.14937970e-01]\n",
      " [ 5.81240400e-01  7.92134668e-01 -4.93463311e-01  3.38865701e-01\n",
      "  -9.69656403e-02 -4.83722562e-01  4.08344930e-01  3.41896088e-01\n",
      "   5.52449471e-01 -7.42642946e-01 -6.94470916e-02  6.81876988e-01]\n",
      " [ 9.54555019e-01  3.57198669e-01 -6.97765964e-01  1.93455403e-02\n",
      "   7.80419177e-01  5.82310269e-01  8.62870927e-01 -3.48489139e-01\n",
      "  -4.66603585e-01 -4.75936903e-01  6.18844127e-01  3.10428354e-01]\n",
      " [ 9.34320393e-01  8.28552209e-01 -9.35109513e-01  1.29371075e-01\n",
      "  -6.41066665e-01 -5.95180165e-01  5.43511566e-01 -1.60182955e-01\n",
      "   9.47607801e-01  8.78769944e-01 -1.49787721e-01 -9.67997140e-02]\n",
      " [-3.75800392e-01  7.35993219e-01 -4.36691078e-01 -1.32128316e-01\n",
      "  -7.92251390e-01  5.30882695e-01  2.00392560e-01  6.85094751e-01\n",
      "  -9.87453777e-01  3.00128866e-01 -5.53136785e-04 -2.72350183e-01]\n",
      " [ 6.52183404e-01  6.32049998e-01 -4.16663096e-01 -4.99253789e-01\n",
      "   2.04287082e-01  9.87359803e-01 -2.82928241e-01  1.79758310e-01\n",
      "  -8.33432889e-01  6.36162071e-01  7.97029813e-01  4.44237744e-02]\n",
      " [-6.05572029e-01  1.08777117e-02  2.09718305e-01  2.05396467e-01\n",
      "  -6.24811386e-01 -2.05225140e-01 -8.35238506e-02  2.60132819e-01\n",
      "   3.63391986e-01  7.38429404e-01 -3.94702069e-01 -4.81490461e-01]\n",
      " [ 2.58835436e-01 -8.42140221e-02 -7.52886235e-01  7.96353424e-01\n",
      "   5.24633067e-02 -8.18982596e-01 -1.24037594e-01 -9.62158943e-01\n",
      "  -6.14816930e-01 -3.02066669e-02  5.84367967e-01 -1.64327367e-01]\n",
      " [ 8.26690925e-01 -2.08787550e-02  8.63129316e-01 -7.43471861e-01\n",
      "   3.01231387e-01  2.98709689e-01  5.13487796e-01  6.60612918e-01\n",
      "   7.70637896e-01  8.64062423e-01 -9.09194047e-01  4.49925462e-01]\n",
      " [-8.21004946e-01 -5.81974362e-01  9.45211423e-01 -3.59120395e-01\n",
      "  -3.49061812e-01  3.30201943e-01  4.91623608e-01  7.85684026e-01\n",
      "   5.22525246e-01  1.19571856e-01  1.19205375e-01 -5.67936188e-01]\n",
      " [-3.18810065e-01  8.16491041e-01 -8.34061372e-01  1.57815534e-01\n",
      "  -9.69263430e-01 -8.93763207e-01 -4.48618236e-01  4.55027111e-01\n",
      "   2.86090662e-01  2.51535938e-01  3.05305287e-01 -4.62281923e-01]\n",
      " [-7.35791175e-01 -8.91341978e-01 -1.29734746e-01  7.02124334e-02\n",
      "   6.55663742e-01  8.68460409e-01  1.21191464e-01 -4.92275949e-01\n",
      "  -8.74410358e-01 -2.09895815e-01  4.78912952e-01 -6.18893603e-02]\n",
      " [ 9.10625642e-01 -3.99817427e-01 -9.78936330e-01  1.99320921e-01\n",
      "   5.69000330e-01 -1.61307911e-01 -7.70237961e-01  1.14296036e-01\n",
      "  -8.56462189e-01 -8.96382457e-02  5.06752898e-01  1.30922549e-01]\n",
      " [ 1.33714710e-01 -3.60382835e-01 -3.54741306e-01  4.63405302e-01\n",
      "   9.10570652e-01  3.49157576e-01 -7.39844215e-01  4.61326727e-01\n",
      "   1.55386930e-01 -4.39542723e-01  5.91112149e-02  7.48126643e-01]\n",
      " [ 5.29935281e-01  1.67579898e-01  3.56650449e-01 -4.20348649e-01\n",
      "  -4.84488602e-01  8.95195011e-01 -7.59032460e-01 -6.40121984e-01\n",
      "  -6.82468445e-01  4.63176687e-02  2.53723828e-01  8.40564105e-01]\n",
      " [-1.43955216e-01  4.94403383e-01 -6.85923329e-02  6.69809721e-02\n",
      "   7.43857580e-01 -9.25364735e-01 -7.09415989e-01 -9.02126500e-01\n",
      "   6.38148760e-01 -8.10318606e-01 -8.18157054e-01  9.73148427e-01]]\n",
      "\n",
      "bias\n",
      "[[ 0.50416695 -0.83878679 -0.25110215 -0.59771204 -0.03932899 -0.23675721\n",
      "   0.93345932 -0.02152148 -0.13579406  0.81674347 -0.52660491  0.81352976]]\n",
      "\n",
      "layer 2: 10 neurons\n",
      "weights\n",
      "[[ 0.00453872  0.24224024  0.2164439   0.5854098   0.6281136   0.43673789\n",
      "  -0.33417292 -0.33127845  0.5500778  -0.81130328]\n",
      " [ 0.77618835  0.06367095  0.62759577  0.56247901  0.38243378 -0.41519042\n",
      "  -0.50273977 -0.87097699  0.15447511 -0.64403103]\n",
      " [ 0.14617059 -0.52228723  0.89654967  0.21276903 -0.77060384 -0.45287075\n",
      "  -0.52944842  0.17825083 -0.72451784  0.68079585]\n",
      " [ 0.98409734 -0.7793131   0.95045313 -0.44200306 -0.64175167 -0.8312851\n",
      "  -0.77578539 -0.52316182  0.98538055 -0.85133968]\n",
      " [-0.50133718  0.33778888  0.95799257  0.42555983  0.42699229  0.01049024\n",
      "  -0.65399923  0.83209899 -0.13359557  0.18661715]\n",
      " [ 0.91547637  0.79483412 -0.39537882 -0.22908067 -0.42857092 -0.63581418\n",
      "   0.30400629 -0.99765818 -0.93427472  0.70083977]\n",
      " [-0.42511423 -0.57562373  0.46772013 -0.4636332  -0.54357628 -0.70855197\n",
      "   0.48419759  0.40565444 -0.82525323 -0.2878919 ]\n",
      " [ 0.45375899 -0.2040416   0.78126591  0.3529759   0.9088184  -0.57056939\n",
      "  -0.32237536  0.14656014  0.10809964  0.56914198]\n",
      " [-0.02767943 -0.34198659  0.6147754  -0.07606922 -0.58549881  0.91303592\n",
      "  -0.81591755  0.27922629 -0.80716083  0.37558781]\n",
      " [-0.84289604 -0.44648929 -0.70498051  0.74339434 -0.31232733 -0.26056042\n",
      "  -0.55237376  0.84521726  0.09398771 -0.60140643]\n",
      " [-0.35012576 -0.80465172  0.16265894  0.42742407  0.37189819  0.13577595\n",
      "  -0.59506452  0.32390974 -0.81739058  0.83138904]\n",
      " [ 0.96507477  0.1550115   0.27645735  0.58581952 -0.13861621  0.69311476\n",
      "  -0.8775902  -0.75217228  0.00514773  0.07559968]]\n",
      "\n",
      "bias\n",
      "[[-0.69253433  0.69058293  0.91974618  0.9415194  -0.72303129  0.36464491\n",
      "   0.57062091  0.58720013  0.85833385 -0.49863701]]\n",
      "\n"
     ]
    }
   ],
   "source": [
    "def create_neural_network():\n",
    "    neuralNetwork = [\n",
    "        NeuralLayer(num_connections_entering=10, num_neurons=25, activation_fn=ReLU),\n",
    "        NeuralLayer(num_connections_entering=25, num_neurons=12, activation_fn=ReLU),\n",
    "        NeuralLayer(num_connections_entering=12, num_neurons=10, activation_fn=Softmax),\n",
    "    ]\n",
    "    \n",
    "    return neuralNetwork\n",
    "    \n",
    "Poker = create_neural_network()\n",
    "\n",
    "def print_neural_network(neuralNetwork):\n",
    "    list_indexes = list(range(neuralNetwork[0].num_connections_entering))\n",
    "    inputs_names = list(map(lambda i: f\"input {i + 1}\", list_indexes))\n",
    "    \n",
    "    print(inputs_names, end=\"\\n\\n\")\n",
    "    \n",
    "    for i, layer in enumerate(neuralNetwork):\n",
    "        print(f\"layer {i}: {layer.bias.shape[1]} neurons\")\n",
    "        print(\"weights\")\n",
    "        print(layer.weights, end=\"\\n\\n\")\n",
    "        print(\"bias\")\n",
    "        print(layer.bias, end=\"\\n\\n\")\n",
    "        \n",
    "print_neural_network(Poker)"
   ]
  },
  {
   "cell_type": "code",
   "execution_count": 7,
   "metadata": {},
   "outputs": [
    {
     "name": "stdout",
     "output_type": "stream",
     "text": [
      "Current behavior\n",
      "[[0.         0.         0.38751439]\n",
      " [0.         1.         0.40262198]\n",
      " [1.         0.         0.37772657]\n",
      " [1.         1.         0.39649398]]\n",
      "\n"
     ]
    }
   ],
   "source": [
    "def foward_pass(neural_network, inputs, cost_function, print_it=True):\n",
    "    input_to_layer = inputs\n",
    "    steps = [(None, inputs)]\n",
    "    \n",
    "    for _, layer in enumerate(neural_network):\n",
    "        ponderate_sum = input_to_layer @ layer.weights + layer.bias\n",
    "        input_to_layer = activation = layer.activation_fn[0](ponderate_sum)\n",
    "        \n",
    "        steps.append((ponderate_sum, activation))\n",
    "    \n",
    "    if print_it:\n",
    "        prediction = np.hstack((inputs, input_to_layer))\n",
    "        print(\"Current behavior\")\n",
    "        print(prediction, end=\"\\n\\n\")\n",
    "    \n",
    "    return steps\n",
    "\n",
    "steps = foward_pass(XOR, input_dataset, mean_square_error)"
   ]
  },
  {
   "cell_type": "code",
   "execution_count": 8,
   "metadata": {},
   "outputs": [],
   "source": [
    "def backpropagation(neural_network, inputs, outputs, cost_function, show, learning_rate = 3.2):\n",
    "    steps = foward_pass(neural_network, inputs, cost_function, show)\n",
    "    deltas = [None] * len(neural_network)\n",
    "    \n",
    "    next_layer_weights = None\n",
    "    num_layers, num_inputs = len(neural_network), inputs.shape[0]\n",
    "\n",
    "    for i in reversed(range(num_layers)):\n",
    "        ponderate_sum, activation = steps[i + 1]\n",
    "        _, activation_last_layer = steps[i]\n",
    "        \n",
    "        if i == num_layers - 1:\n",
    "            cost_activation = cost_function[1](activation, outputs)\n",
    "        else:\n",
    "            cost_activation = deltas[i + 1] @ next_layer_weights.T / num_inputs\n",
    "            \n",
    "        activation_ponderate = neural_network[i].activation_fn[1](ponderate_sum)\n",
    "        deltas[i] = delta = cost_activation * activation_ponderate\n",
    "        \n",
    "        gradient_weights = (activation_last_layer.T @ delta) / num_inputs\n",
    "        gradient_bias = np.mean(delta, axis=0, keepdims=True)\n",
    "        \n",
    "        next_layer_weights = neural_network[i].weights\n",
    "        \n",
    "        neural_network[i].bias -= learning_rate * gradient_bias\n",
    "        neural_network[i].weights -= learning_rate * gradient_weights\n",
    "        \n",
    "    error = cost_function[0](steps[-1][1], outputs)\n",
    "    return error"
   ]
  },
  {
   "cell_type": "code",
   "execution_count": 9,
   "metadata": {},
   "outputs": [
    {
     "name": "stdout",
     "output_type": "stream",
     "text": [
      "Current behavior\n",
      "[[0.         0.         0.38751439]\n",
      " [0.         1.         0.40262198]\n",
      " [1.         0.         0.37772657]\n",
      " [1.         1.         0.39649398]]\n",
      "\n",
      "current error = 0.26286489658054046\n",
      "['input 1', 'input 2']\n",
      "\n",
      "layer 0: 2 neurons\n",
      "weights\n",
      "[[ 0.26855457  0.49555428]\n",
      " [-0.00146794 -0.55075697]]\n",
      "\n",
      "bias\n",
      "[[ 0.5452862  -0.96091623]]\n",
      "\n",
      "layer 1: 1 neurons\n",
      "weights\n",
      "[[ 0.57564241]\n",
      " [-0.63634415]]\n",
      "\n",
      "bias\n",
      "[[-0.52139929]]\n",
      "\n",
      "new error = 0.25713698798167056\n",
      "difference = 0.005727908598869902\n",
      "\n"
     ]
    }
   ],
   "source": [
    "def show_step(neural_network, input_dataset, output_dataset, cost_function, show):\n",
    "    error_before = backpropagation(neural_network, input_dataset, output_dataset, cost_function, show)\n",
    "    print(f\"current error = {error_before}\")\n",
    "    \n",
    "    if show: \n",
    "        steps = foward_pass(neural_network, input_dataset, cost_function, False)\n",
    "        error_after = cost_function[0](steps[-1][1], output_dataset)\n",
    "        \n",
    "        print_neural_network(neural_network)\n",
    "        \n",
    "        print(f\"new error = {error_after}\")\n",
    "        print(f\"difference = {abs(error_before - error_after)}\", end=\"\\n\\n\")\n",
    "        \n",
    "    return error_before\n",
    "        \n",
    "x = show_step(XOR, input_dataset, output_dataset, mean_square_error, True)"
   ]
  },
  {
   "cell_type": "code",
   "execution_count": 12,
   "metadata": {},
   "outputs": [],
   "source": [
    "errors = []"
   ]
  },
  {
   "cell_type": "code",
   "execution_count": 13,
   "metadata": {},
   "outputs": [
    {
     "data": {
      "application/vnd.jupyter.widget-view+json": {
       "model_id": "7202ee6a06504824933cebf588d423b9",
       "version_major": 2,
       "version_minor": 0
      },
      "text/plain": [
       "interactive(children=(IntSlider(value=2750, description='times', max=5500, min=1), Button(description='Run Int…"
      ]
     },
     "metadata": {},
     "output_type": "display_data"
    }
   ],
   "source": [
    "@interact_manual(times = (1, 5500))\n",
    "def trainXOR(times):\n",
    "    global errors\n",
    "    for i in range(times):\n",
    "        error = show_step(XOR, input_dataset, output_dataset, mean_square_error, False)\n",
    "        errors.append(error)\n",
    "        "
   ]
  },
  {
   "cell_type": "code",
   "execution_count": 14,
   "metadata": {},
   "outputs": [
    {
     "data": {
      "image/png": "[encoded data removed]",
      "text/plain": [
       "<Figure size 432x288 with 1 Axes>"
      ]
     },
     "metadata": {
      "needs_background": "light"
     },
     "output_type": "display_data"
    }
   ],
   "source": [
    "plt.plot(errors) \n",
    "plt.show() "
   ]
  }
 ],
 "metadata": {
  "kernelspec": {
   "display_name": "Python 3",
   "language": "python",
   "name": "python3"
  },
  "language_info": {
   "codemirror_mode": {
    "name": "ipython",
    "version": 3
   },
   "file_extension": ".py",
   "mimetype": "text/x-python",
   "name": "python",
   "nbconvert_exporter": "python",
   "pygments_lexer": "ipython3",
   "version": "3.7.4"
  }
 },
 "nbformat": 4,
 "nbformat_minor": 2
}
