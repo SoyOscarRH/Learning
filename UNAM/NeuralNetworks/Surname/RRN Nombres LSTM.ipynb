{
 "cells": [
  {
   "cell_type": "code",
   "execution_count": 249,
   "metadata": {},
   "outputs": [],
   "source": [
    "import torch\n",
    "import torch.nn as nn\n",
    "import torch.nn.functional as F\n",
    "import numpy as np\n",
    "\n",
    "np.random.seed(0)\n",
    "torch.manual_seed(0)\n",
    "\n",
    "device = torch.device(\"cuda:0\" if torch.cuda.is_available() else \"cpu\")\n",
    "\n",
    "class RNN(nn.Module):\n",
    "    def __init__(self, input_size, hidden_size, output_size):\n",
    "        super(RNN, self).__init__()\n",
    "\n",
    "        self.hidden_size = hidden_size\n",
    "        self.input_size = input_size\n",
    "        self.output_size = output_size\n",
    "\n",
    "        #LSTM\n",
    "        self.lstm = nn.LSTM(input_size, hidden_size).to(device)\n",
    "        self.hidden2Cat = nn.Linear(hidden_size, output_size).to(device)\n",
    "        self.hidden = self.init_hidden()\n",
    "\n",
    "    def forward(self, input):\n",
    "        lstm_out, self.hidden = self.lstm(input, self.hidden)\n",
    "        output = self.hidden2Cat(lstm_out[-1]) #many to one\n",
    "        output = F.log_softmax(output, dim=1)\n",
    "\n",
    "        return output\n",
    "\n",
    "    def init_hidden(self):\n",
    "        return (torch.zeros(1, 1, self.hidden_size).to(device),\n",
    "                torch.zeros(1, 1, self.hidden_size).to(device))"
   ]
  },
  {
   "cell_type": "code",
   "execution_count": 250,
   "metadata": {},
   "outputs": [],
   "source": [
    "from __future__ import unicode_literals, print_function, division\n",
    "from io import open\n",
    "import glob\n",
    "import os\n",
    "import unicodedata\n",
    "import string\n",
    "import torch\n",
    "import torch.nn as nn\n",
    "import torch.optim as optim\n",
    "\n",
    "import matplotlib.pyplot as plt\n",
    "import matplotlib.ticker as ticker\n",
    "\n",
    "import random\n",
    "\n",
    "def findFiles(path): return glob.glob(path)\n",
    "\n",
    "all_letters = string.ascii_letters + \" .,;'\"\n",
    "n_letters = len(all_letters)\n",
    "\n",
    "# Turn a Unicode string to plain ASCII, thanks to http://stackoverflow.com/a/518232/2809427\n",
    "def unicodeToAscii(s):\n",
    "    return ''.join(\n",
    "        c for c in unicodedata.normalize('NFD', s)\n",
    "        if unicodedata.category(c) != 'Mn'\n",
    "        and c in all_letters\n",
    "    )\n",
    "\n",
    "\n",
    "# Build the category_lines dictionary, a list of names per language\n",
    "category_lines = {}\n",
    "category_lines_test = {}\n",
    "all_categories = []\n",
    "split_size = 0.92\n",
    "\n",
    "\n",
    "# Read a file and split into lines\n",
    "def readLines(filename):\n",
    "    lines = open(filename, encoding='utf-8').read().strip().split('\\n')\n",
    "    return [unicodeToAscii(line) for line in lines]\n",
    "\n",
    "for filename in findFiles('data/names/*.txt'):\n",
    "    category = os.path.splitext(os.path.basename(filename))[0]\n",
    "    all_categories.append(category)\n",
    "    lines = readLines(filename)\n",
    "    split = int(len(lines) * split_size)\n",
    "    category_lines[category] = lines[0:split]\n",
    "    category_lines_test[category] = lines[split:-1]\n",
    "\n",
    "n_categories = len(all_categories)"
   ]
  },
  {
   "cell_type": "code",
   "execution_count": 251,
   "metadata": {},
   "outputs": [],
   "source": [
    "# Find letter index from all_letters, e.g. \"a\" = 0\n",
    "def letterToIndex(letter):\n",
    "    return all_letters.find(letter)\n",
    "\n",
    "# Just for demonstration, turn a letter into a <1 x n_letters> Tensor\n",
    "def letterToTensor(letter):\n",
    "    tensor = torch.zeros(1, n_letters)\n",
    "    tensor[0][letterToIndex(letter)] = 1\n",
    "    return tensor\n",
    "\n",
    "# Turn a line into a <line_length x 1 x n_letters>,\n",
    "# or an array of one-hot letter vectors\n",
    "def lineToTensor(line):\n",
    "    tensor = torch.zeros(len(line), 1, n_letters)\n",
    "    for li, letter in enumerate(line):\n",
    "        tensor[li][0][letterToIndex(letter)] = 1\n",
    "    return tensor\n",
    "\n",
    "def categoryFromOutput(output):\n",
    "    top_n, top_i = output.topk(1)\n",
    "    category_i = top_i[0].item()\n",
    "    return all_categories[category_i], category_i\n",
    "\n",
    "def randomChoice(l):\n",
    "    return l[random.randint(0, len(l) - 1)]\n",
    "\n",
    "def randomTrainingExample(train_set=True):\n",
    "    category = randomChoice(all_categories)\n",
    "    line = randomChoice(category_lines[category] if train_set else category_lines_test[category])\n",
    "    category_tensor = torch.tensor([all_categories.index(category)], dtype=torch.long)\n",
    "    line_tensor = lineToTensor(line)\n",
    "    return category, line, category_tensor, line_tensor\n",
    "\n",
    "# Just return an output given a line\n",
    "def evaluate(line_tensor):\n",
    "    rnn.hidden = rnn.init_hidden()\n",
    "    output = rnn(line_tensor)\n",
    "\n",
    "    return output"
   ]
  },
  {
   "cell_type": "code",
   "execution_count": 252,
   "metadata": {},
   "outputs": [],
   "source": [
    "#negative log likelihood loss\n",
    "criterion = nn.NLLLoss()\n",
    "learning_rate = 0.0012\n",
    "n_iters = 25_000\n",
    "\n",
    "n_hidden = 256\n",
    "rnn = RNN(n_letters, n_hidden, n_categories) #LSTM model\n",
    "optimizer = optim.Adam(rnn.parameters(), lr=learning_rate)"
   ]
  },
  {
   "cell_type": "code",
   "execution_count": 253,
   "metadata": {},
   "outputs": [
    {
     "name": "stdout",
     "output_type": "stream",
     "text": [
      "5000 20% (0m 24s) 1.1798 Laurent / French ✓\n",
      "10000 40% (0m 48s) 1.4546 Kaufman / German ✓\n",
      "15000 60% (1m 11s) 0.2586 Do / Vietnamese ✓\n",
      "20000 80% (1m 34s) 0.0097 Chikamatsu / Japanese ✓\n",
      "25000 100% (1m 58s) 0.0056 Golobokov / Russian ✓\n"
     ]
    },
    {
     "data": {
      "image/png": "[encoded data removed]",
      "text/plain": [
       "<Figure size 432x288 with 1 Axes>"
      ]
     },
     "metadata": {
      "needs_background": "light"
     },
     "output_type": "display_data"
    }
   ],
   "source": [
    "import time\n",
    "import math\n",
    "import matplotlib.pyplot as plt\n",
    "\n",
    "def train(category_tensor, line_tensor):\n",
    "\n",
    "    rnn.zero_grad()\n",
    "    rnn.hidden = rnn.init_hidden()\n",
    "\n",
    "    output = rnn(line_tensor)[-1]\n",
    "\n",
    "    loss = criterion(output.unsqueeze(0), category_tensor)\n",
    "    loss.backward()\n",
    "\n",
    "    optimizer.step()\n",
    "\n",
    "    return output.unsqueeze(0), loss.item()\n",
    "\n",
    "def timeSince(since):\n",
    "    now = time.time()\n",
    "    s = now - since\n",
    "    m = math.floor(s / 60)\n",
    "    s -= m * 60\n",
    "    return '%dm %ds' % (m, s)\n",
    "\n",
    "start = time.time()\n",
    "\n",
    "print_every = 5_000\n",
    "plot_every = 1_000\n",
    "\n",
    "# Keep track of losses for plotting\n",
    "current_loss = 0\n",
    "all_losses = []\n",
    "\n",
    "for iter in range(1, n_iters + 1):\n",
    "    category, line, category_tensor, line_tensor = randomTrainingExample()\n",
    "    output, loss = train(category_tensor.to(device), line_tensor.to(device))\n",
    "    current_loss += loss\n",
    "\n",
    "    # Print iter number, loss, name and guess\n",
    "    if iter % print_every == 0:\n",
    "        guess, guess_i = categoryFromOutput(output)\n",
    "        correct = '✓' if guess == category else '✗ (%s)' % category\n",
    "        print('%d %d%% (%s) %.4f %s / %s %s' % (iter, iter / n_iters * 100, timeSince(start), loss, line, guess, correct))\n",
    "\n",
    "    # Add current loss avg to list of losses\n",
    "    if iter % plot_every == 0:\n",
    "        all_losses.append(current_loss / plot_every)\n",
    "        current_loss = 0\n",
    "        \n",
    "# Show the loss\n",
    "plt.figure()\n",
    "plt.plot(all_losses)\n",
    "plt.show()"
   ]
  },
  {
   "cell_type": "code",
   "execution_count": 254,
   "metadata": {},
   "outputs": [],
   "source": [
    "def confusion_plot(y_category, train_set=True):\n",
    "    # Keep track of correct guesses in a confusion matrix\n",
    "    confusion = torch.zeros(n_categories, n_categories)\n",
    "    n_confusion = 50_000\n",
    "    correct = 0\n",
    "    \n",
    "    # Go through a bunch of examples and record which are correctly guessed\n",
    "    for i in range(n_confusion):\n",
    "\n",
    "        category, line, category_tensor, line_tensor = randomTrainingExample(train_set)\n",
    "        output = evaluate(line_tensor.to(device))\n",
    "        output = output.unsqueeze(0)\n",
    "\n",
    "        guess, guess_i = categoryFromOutput(output)\n",
    "        category_i = all_categories.index(category)\n",
    "        confusion[category_i][guess_i] += 1\n",
    "        if category_i == guess_i: correct += 1\n",
    "\n",
    "    # Normalize by dividing every row by its sum\n",
    "    for i in range(n_categories):\n",
    "        confusion[i] = confusion[i] / confusion[i].sum()\n",
    "\n",
    "    fig = plt.figure()\n",
    "    ax = fig.add_subplot(111)\n",
    "    cax = ax.matshow(confusion.numpy())\n",
    "    fig.colorbar(cax)\n",
    "\n",
    "    # Set up axes\n",
    "    ax.set_xticklabels([''] + y_category, rotation=90)\n",
    "    ax.set_yticklabels([''] + y_category)\n",
    "\n",
    "    # Force label at every tick\n",
    "    ax.xaxis.set_major_locator(ticker.MultipleLocator(1))\n",
    "    ax.yaxis.set_major_locator(ticker.MultipleLocator(1))\n",
    "\n",
    "    # sphinx_gallery_thumbnail_number = 2\n",
    "    plt.show()\n",
    "    print(f\"accuracy = {correct / n_confusion}\")"
   ]
  },
  {
   "cell_type": "code",
   "execution_count": 255,
   "metadata": {},
   "outputs": [
    {
     "data": {
      "image/png": "[encoded data removed]",
      "text/plain": [
       "<Figure size 432x288 with 2 Axes>"
      ]
     },
     "metadata": {
      "needs_background": "light"
     },
     "output_type": "display_data"
    },
    {
     "name": "stdout",
     "output_type": "stream",
     "text": [
      "accuracy = 0.80424\n"
     ]
    }
   ],
   "source": [
    "confusion_plot(all_categories)"
   ]
  },
  {
   "cell_type": "code",
   "execution_count": 256,
   "metadata": {},
   "outputs": [
    {
     "data": {
      "image/png": "[encoded data removed]",
      "text/plain": [
       "<Figure size 432x288 with 2 Axes>"
      ]
     },
     "metadata": {
      "needs_background": "light"
     },
     "output_type": "display_data"
    },
    {
     "name": "stdout",
     "output_type": "stream",
     "text": [
      "accuracy = 0.48054\n"
     ]
    }
   ],
   "source": [
    "confusion_plot(all_categories, False)"
   ]
  },
  {
   "cell_type": "code",
   "execution_count": 257,
   "metadata": {},
   "outputs": [],
   "source": [
    "def predict(word, n_predictions=4):\n",
    "        print(f'\\n>{word}')\n",
    "        with torch.no_grad():\n",
    "            output = evaluate(lineToTensor(word))\n",
    "\n",
    "            # get top N categories\n",
    "            topv, topi = output.topk(n_predictions, 1, True)\n",
    "            for i in range(n_predictions):\n",
    "                value = topv[0][i].item()\n",
    "                category_index = topi[0][i].item()\n",
    "                print('(%.2f) %s' % (value, all_categories[category_index]))\n"
   ]
  },
  {
   "cell_type": "code",
   "execution_count": 258,
   "metadata": {},
   "outputs": [
    {
     "name": "stdout",
     "output_type": "stream",
     "text": [
      "\n",
      ">Zhao\n",
      "(-0.00) Chinese\n",
      "(-6.68) Vietnamese\n",
      "(-7.07) Japanese\n",
      "(-7.41) Scottish\n",
      "\n",
      ">Alah\n",
      "(-0.56) Arabic\n",
      "(-2.32) Czech\n",
      "(-2.33) Scottish\n",
      "(-2.35) English\n",
      "\n",
      ">Shiomi\n",
      "(-0.03) Japanese\n",
      "(-3.74) Arabic\n",
      "(-5.84) Czech\n",
      "(-6.63) Polish\n",
      "\n",
      ">Connor\n",
      "(-0.42) English\n",
      "(-1.92) Irish\n",
      "(-2.78) Arabic\n",
      "(-2.81) French\n",
      "\n",
      ">Hernandez\n",
      "(-0.05) Spanish\n",
      "(-3.42) Portuguese\n",
      "(-4.78) German\n",
      "(-5.93) Polish\n",
      "\n",
      ">Voltaire\n",
      "(-0.02) French\n",
      "(-4.27) Irish\n",
      "(-5.32) English\n",
      "(-6.07) German\n",
      "\n",
      ">Paganni\n",
      "(-0.02) Italian\n",
      "(-4.30) French\n",
      "(-4.93) Japanese\n",
      "(-7.27) Spanish\n",
      "\n",
      ">Schneider\n",
      "(-0.73) German\n",
      "(-0.91) Dutch\n",
      "(-2.82) English\n",
      "(-3.53) Czech\n",
      "\n",
      ">Yun\n",
      "(-0.03) Chinese\n",
      "(-3.89) Korean\n",
      "(-5.21) Vietnamese\n",
      "(-7.26) Dutch\n",
      "\n",
      ">Sayaka\n",
      "(-0.02) Japanese\n",
      "(-4.67) Czech\n",
      "(-4.80) Arabic\n",
      "(-6.77) Russian\n",
      "\n",
      ">Tomoyo\n",
      "(-0.07) Japanese\n",
      "(-3.49) Italian\n",
      "(-4.15) Russian\n",
      "(-5.01) Spanish\n",
      "\n",
      ">Alah\n",
      "(-0.56) Arabic\n",
      "(-2.32) Czech\n",
      "(-2.33) Scottish\n",
      "(-2.35) English\n",
      "\n",
      ">Perez\n",
      "(-0.05) Spanish\n",
      "(-4.03) Polish\n",
      "(-4.73) Czech\n",
      "(-4.75) German\n",
      "\n",
      ">Trump\n",
      "(-0.35) German\n",
      "(-1.80) English\n",
      "(-2.15) Czech\n",
      "(-5.75) Arabic\n"
     ]
    }
   ],
   "source": [
    "predict(\"Zhao\")\n",
    "predict(\"Alah\")\n",
    "predict(\"Shiomi\")\n",
    "predict(\"Connor\")\n",
    "predict(\"Hernandez\")\n",
    "predict(\"Voltaire\")\n",
    "predict(\"Paganni\")\n",
    "predict(\"Schneider\")\n",
    "predict(\"Yun\")\n",
    "predict(\"Sayaka\")\n",
    "predict(\"Tomoyo\")\n",
    "predict(\"Alah\")\n",
    "predict(\"Perez\")\n"
   ]
  }
 ],
 "metadata": {
  "kernelspec": {
   "display_name": "Python 3",
   "language": "python",
   "name": "python3"
  },
  "language_info": {
   "codemirror_mode": {
    "name": "ipython",
    "version": 3
   },
   "file_extension": ".py",
   "mimetype": "text/x-python",
   "name": "python",
   "nbconvert_exporter": "python",
   "pygments_lexer": "ipython3",
   "version": "3.7.4"
  }
 },
 "nbformat": 4,
 "nbformat_minor": 2
}
