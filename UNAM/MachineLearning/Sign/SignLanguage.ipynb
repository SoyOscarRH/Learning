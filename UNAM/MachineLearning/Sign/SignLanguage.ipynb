{
 "cells": [
  {
   "cell_type": "code",
   "execution_count": 40,
   "metadata": {},
   "outputs": [
    {
     "output_type": "stream",
     "name": "stdout",
     "text": "Python 3.7.3\n"
    }
   ],
   "source": [
    "!python3 --version"
   ]
  },
  {
   "cell_type": "code",
   "execution_count": 56,
   "metadata": {},
   "outputs": [],
   "source": [
    "import numpy as np\n",
    "import pandas as pd\n",
    "\n",
    "import matplotlib.pyplot as plt\n",
    "import seaborn as sns"
   ]
  },
  {
   "cell_type": "code",
   "execution_count": 98,
   "metadata": {},
   "outputs": [],
   "source": [
    "data_raw = pd.read_csv('dataset/sign_mnist_train.csv', sep=\",\")\n",
    "\n",
    "labels = data_raw['label']\n",
    "data_raw.drop('label', axis=1, inplace=True)\n",
    "\n",
    "data, labels = data_raw.values, labels.values"
   ]
  },
  {
   "cell_type": "code",
   "execution_count": null,
   "metadata": {},
   "outputs": [],
   "source": [
    "IMAGE_SIZE = 28"
   ]
  },
  {
   "cell_type": "code",
   "execution_count": 100,
   "metadata": {},
   "outputs": [
    {
     "output_type": "stream",
     "name": "stdout",
     "text": "['a', 'b', 'c', 'd', 'e', 'f', 'g', 'h', 'i', 'j', 'k', 'l', 'm', 'n', 'o', 'p', 'q', 'r', 's', 't', 'u', 'v', 'w', 'x', 'y', 'z']\n"
    }
   ],
   "source": [
    "def num_to_letter(num: int) -> str:\n",
    "        start = ord('a')\n",
    "        return chr(num + start)\n",
    "\n",
    "examples = [num_to_letter(i) for i in range(26)]\n",
    "print(examples)"
   ]
  },
  {
   "cell_type": "code",
   "execution_count": 99,
   "metadata": {},
   "outputs": [],
   "source": [
    "test_data_raw = pd.read_csv('dataset/sign_mnist_test.csv', sep=\",\")\n",
    "\n",
    "labels_test = test_data_raw['label']\n",
    "test_data_raw.drop('label', axis=1, inplace=True)\n",
    "\n",
    "test_data, labels_test = test_data_raw.values, labels_test.values"
   ]
  },
  {
   "cell_type": "code",
   "execution_count": 110,
   "metadata": {},
   "outputs": [
    {
     "output_type": "display_data",
     "data": {
      "text/plain": "interactive(children=(IntSlider(value=13727, description='i', max=27455), Output()), _dom_classes=('widget-int…",
      "application/vnd.jupyter.widget-view+json": {
       "version_major": 2,
       "version_minor": 0,
       "model_id": "b9b39774064f485bae320bb763155a6f"
      }
     },
     "metadata": {}
    }
   ],
   "source": [
    "from ipywidgets import interact\n",
    "\n",
    "@interact(i = (0, len(data)))\n",
    "def show_image_dataset(i):\n",
    "    info, label = data[i], labels[i]\n",
    "    pixels = info.reshape(IMAGE_SIZE, IMAGE_SIZE)\n",
    "\n",
    "    _, ax = plt.subplots(figsize=(3.5, 3.5))\n",
    "    sns.heatmap(data=pixels, cmap=\"YlGnBu\", ax=ax)\n",
    "    plt.title(num_to_letter(label), fontsize=30, color=\"#00008b\")\n",
    "    \n",
    "    plt.show()"
   ]
  },
  {
   "cell_type": "code",
   "execution_count": 111,
   "metadata": {},
   "outputs": [],
   "source": [
    "data = [pic.reshape(1, IMAGE_SIZE, IMAGE_SIZE) for pic in data]\n",
    "test_data = [pic.reshape(1, IMAGE_SIZE, IMAGE_SIZE) for pic in test_data]\n",
    "\n",
    "x = torch.FloatTensor(data)\n",
    "y = torch.LongTensor(labels.tolist())\n",
    "\n",
    "test_data_formated = torch.FloatTensor(test_data)\n",
    "test_labels       = torch.LongTensor(labels_test.tolist())"
   ]
  },
  {
   "cell_type": "code",
   "execution_count": 48,
   "metadata": {},
   "outputs": [],
   "source": [
    "import torch\n",
    "import torch.nn as nn\n",
    "import torch.nn.functional as F\n",
    "import torch.optim as optim\n",
    "from torch.autograd import Variable"
   ]
  },
  {
   "cell_type": "code",
   "execution_count": 49,
   "metadata": {},
   "outputs": [
    {
     "output_type": "stream",
     "name": "stdout",
     "text": "train_on_gpu = False\n"
    }
   ],
   "source": [
    "train_on_gpu = torch.cuda.is_available()\n",
    "print(f\"train_on_gpu = {train_on_gpu}\")"
   ]
  },
  {
   "cell_type": "code",
   "execution_count": null,
   "metadata": {},
   "outputs": [],
   "source": []
  }
 ],
 "metadata": {
  "kernelspec": {
   "display_name": "Python 3.7.6 64-bit",
   "language": "python",
   "name": "python37664bit259498e2318c4e13a37fb8f3aa77a7e8"
  },
  "language_info": {
   "codemirror_mode": {
    "name": "ipython",
    "version": 3
   },
   "file_extension": ".py",
   "mimetype": "text/x-python",
   "name": "python",
   "nbconvert_exporter": "python",
   "pygments_lexer": "ipython3",
   "version": "3.7.6-final"
  }
 },
 "nbformat": 4,
 "nbformat_minor": 2
}