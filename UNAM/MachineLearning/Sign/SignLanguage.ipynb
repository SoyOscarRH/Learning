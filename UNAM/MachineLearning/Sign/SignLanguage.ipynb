{
 "cells": [
  {
   "cell_type": "code",
   "execution_count": 235,
   "metadata": {},
   "outputs": [
    {
     "output_type": "stream",
     "name": "stdout",
     "text": "Python 3.7.3\n"
    }
   ],
   "source": [
    "!python3 --version"
   ]
  },
  {
   "cell_type": "code",
   "execution_count": 236,
   "metadata": {},
   "outputs": [],
   "source": [
    "import numpy as np\n",
    "import pandas as pd\n",
    "\n",
    "import matplotlib.pyplot as plt\n",
    "import seaborn as sns"
   ]
  },
  {
   "cell_type": "code",
   "execution_count": 237,
   "metadata": {},
   "outputs": [],
   "source": [
    "def dataframe_to_data(raw):\n",
    "    labels = raw['label']\n",
    "    raw.drop('label', axis=1, inplace=True)\n",
    "\n",
    "    return raw.values, labels.values"
   ]
  },
  {
   "cell_type": "code",
   "execution_count": 240,
   "metadata": {},
   "outputs": [
    {
     "output_type": "stream",
     "name": "stdout",
     "text": "data: 27455\ntest: 3587\nvalidation: 3586\n"
    }
   ],
   "source": [
    "data_raw = pd.read_csv('dataset/sign_mnist_train.csv', sep=\",\")\n",
    "data, labels = dataframe_to_data(data_raw)\n",
    "print(\"data:\", len(data))\n",
    "\n",
    "test_validation_data_raw = pd.read_csv('dataset/sign_mnist_test.csv', sep=\",\")\n",
    "\n",
    "n = len(test_validation_data_raw)\n",
    "test_data_raw       = test_validation_data_raw.loc[:n//2, :]\n",
    "validation_data_raw = test_validation_data_raw.loc[n//2:, :]\n",
    "\n",
    "test_data, labels_test = dataframe_to_data(test_data_raw)\n",
    "print(\"test:\", len(test_data))\n",
    "\n",
    "validation_data, labels_validation = dataframe_to_data(validation_data_raw)\n",
    "print(\"validation:\", len(validation_data))\n"
   ]
  },
  {
   "cell_type": "code",
   "execution_count": 241,
   "metadata": {},
   "outputs": [],
   "source": [
    "IMAGE_SIZE = 28"
   ]
  },
  {
   "cell_type": "code",
   "execution_count": 242,
   "metadata": {},
   "outputs": [
    {
     "output_type": "stream",
     "name": "stdout",
     "text": "['a', 'b', 'c', 'd', 'e', 'f', 'g', 'h', 'i', 'j', 'k', 'l', 'm', 'n', 'o', 'p', 'q', 'r', 's', 't', 'u', 'v', 'w', 'x', 'y', 'z']\n"
    }
   ],
   "source": [
    "def num_to_letter(num: int) -> str:\n",
    "    start = ord('a')\n",
    "    return chr(num + start)\n",
    "\n",
    "examples = [num_to_letter(i) for i in range(26)]\n",
    "print(examples)"
   ]
  },
  {
   "cell_type": "code",
   "execution_count": 243,
   "metadata": {},
   "outputs": [
    {
     "output_type": "display_data",
     "data": {
      "text/plain": "interactive(children=(IntSlider(value=13727, description='sample', max=27455), Output()), _dom_classes=('widge…",
      "application/vnd.jupyter.widget-view+json": {
       "version_major": 2,
       "version_minor": 0,
       "model_id": "f6f94e76853e42e3a3008f69d36dde6a"
      }
     },
     "metadata": {}
    }
   ],
   "source": [
    "from ipywidgets import interact\n",
    "\n",
    "@interact(sample = (0, len(data)))\n",
    "def show_image_dataset(sample):\n",
    "    info, label = data[sample], labels[sample]\n",
    "    pixels = info.reshape(IMAGE_SIZE, IMAGE_SIZE)\n",
    "\n",
    "    _, ax = plt.subplots(figsize=(3.5, 3.5))\n",
    "    sns.heatmap(data=pixels, cmap=\"YlGnBu\", ax=ax)\n",
    "    plt.title(num_to_letter(label), fontsize=30, color=\"#00008b\")\n",
    "    \n",
    "    plt.show()"
   ]
  },
  {
   "cell_type": "code",
   "execution_count": 246,
   "metadata": {},
   "outputs": [],
   "source": [
    "import torch\n",
    "import torch.nn as nn\n",
    "import torch.nn.functional as F\n",
    "import torch.optim as optim\n",
    "from torch.autograd import Variable"
   ]
  },
  {
   "cell_type": "code",
   "execution_count": 247,
   "metadata": {},
   "outputs": [],
   "source": [
    "data = [pic.reshape(1, IMAGE_SIZE, IMAGE_SIZE) for pic in data]\n",
    "validation_data = [pic.reshape(1, IMAGE_SIZE, IMAGE_SIZE) for pic in validation_data]\n",
    "test_data = [pic.reshape(1, IMAGE_SIZE, IMAGE_SIZE) for pic in test_data]\n",
    "\n",
    "x                        = torch.FloatTensor(data)\n",
    "y                        = torch.LongTensor(labels.tolist())\n",
    "\n",
    "validation_data_formated = torch.FloatTensor(validation_data)\n",
    "validation_labels        = torch.LongTensor(labels_validation.tolist())\n",
    "\n",
    "test_data_formated       = torch.FloatTensor(test_data)\n",
    "test_labels              = torch.LongTensor(labels_test.tolist())"
   ]
  },
  {
   "cell_type": "code",
   "execution_count": 248,
   "metadata": {},
   "outputs": [
    {
     "output_type": "stream",
     "name": "stdout",
     "text": "train_on_gpu = False\n"
    }
   ],
   "source": [
    "train_on_gpu = torch.cuda.is_available()\n",
    "print(f\"train_on_gpu = {train_on_gpu}\")"
   ]
  },
  {
   "cell_type": "code",
   "execution_count": 249,
   "metadata": {},
   "outputs": [],
   "source": [
    "epochs = 10\n",
    "batch_size = 64\n",
    "learning_rate = 0.001"
   ]
  },
  {
   "cell_type": "code",
   "execution_count": 253,
   "metadata": {},
   "outputs": [],
   "source": [
    "class Network(nn.Module):\n",
    "\n",
    "    def __init__(self):\n",
    "        super(Network, self).__init__()\n",
    "\n",
    "        # convolutional layer (sees 28x28x1 image tensor)\n",
    "        self.conv1    = nn.Conv2d(in_channels=1, out_channels=10, kernel_size=3)\n",
    "        self.pool1    = nn.MaxPool2d(2)\n",
    "        \n",
    "        # convolutional layer (sees 10x tensor)\n",
    "        self.conv2    = nn.Conv2d(in_channels=10, out_channels=20, kernel_size=3)\n",
    "        self.pool2    = nn.MaxPool2d(2)\n",
    "        \n",
    "        # convolutional layer (sees 20x tensor)\n",
    "        self.conv3    = nn.Conv2d(in_channels=20, out_channels=30, kernel_size=3) \n",
    "        self.dropout1 = nn.Dropout2d()\n",
    "        \n",
    "        self.fc3      = nn.Linear(30 * 3 * 3, 256) \n",
    "        self.fc4      = nn.Linear(256, 26)\n",
    "        \n",
    "        self.softmax  = nn.LogSoftmax(dim=1)\n",
    "    \n",
    "    def forward(self, x):\n",
    "        x = self.conv1(x)\n",
    "        x = F.relu(x)\n",
    "        x = self.pool1(x)\n",
    "        \n",
    "        x = self.conv2(x)\n",
    "        x = F.relu(x)\n",
    "        x = self.pool2(x)\n",
    "        \n",
    "        x = self.conv3(x)\n",
    "        x = F.relu(x)\n",
    "        x = self.dropout1(x)\n",
    "\n",
    "        x = x.view(-1, self.fc3.in_features) \n",
    "\n",
    "        x = F.relu(self.fc3(x))\n",
    "        x = F.relu(self.fc4(x))\n",
    "        \n",
    "        return self.softmax(x)\n",
    "    \n",
    "\n",
    "    def evaluate(self, x):\n",
    "      output = self(x)\n",
    "      return torch.max(output.data, 1)[1]  \n",
    "\n",
    "\n",
    "    def step_train(self, optimizer, loss_fn, x, y):\n",
    "        x = Variable(x)\n",
    "        y = Variable(y)\n",
    "        if train_on_gpu: x, y = x.cuda(), y.cuda()\n",
    "        \n",
    "        optimizer.zero_grad()\n",
    "        loss = loss_fn(self(x), y)\n",
    "        loss.backward()\n",
    "        optimizer.step()\n",
    "\n",
    "        return loss.item()\n",
    "\n",
    "          \n",
    "    def accuracy(self, predictions, labels) -> float:  \n",
    "        correct = 0\n",
    "        for prediction, label in zip(predictions, labels):\n",
    "            if prediction == label: correct += 1\n",
    "        \n",
    "        return correct / len(predictions)"
   ]
  },
  {
   "cell_type": "code",
   "execution_count": 251,
   "metadata": {},
   "outputs": [
    {
     "output_type": "stream",
     "name": "stdout",
     "text": "Network(\n  (conv1): Conv2d(1, 10, kernel_size=(3, 3), stride=(1, 1))\n  (pool1): MaxPool2d(kernel_size=2, stride=2, padding=0, dilation=1, ceil_mode=False)\n  (conv2): Conv2d(10, 20, kernel_size=(3, 3), stride=(1, 1))\n  (pool2): MaxPool2d(kernel_size=2, stride=2, padding=0, dilation=1, ceil_mode=False)\n  (conv3): Conv2d(20, 30, kernel_size=(3, 3), stride=(1, 1))\n  (dropout1): Dropout2d(p=0.5, inplace=False)\n  (fc3): Linear(in_features=270, out_features=256, bias=True)\n  (fc4): Linear(in_features=256, out_features=26, bias=True)\n  (softmax): LogSoftmax()\n)\n"
    }
   ],
   "source": [
    "net = Network()\n",
    "print(net)"
   ]
  },
  {
   "cell_type": "code",
   "execution_count": 252,
   "metadata": {},
   "outputs": [],
   "source": [
    "optimizer = optim.SGD(net.parameters(), learning_rate, momentum=0.7)\n",
    "loss_fn = nn.CrossEntropyLoss()"
   ]
  },
  {
   "cell_type": "code",
   "execution_count": null,
   "metadata": {},
   "outputs": [],
   "source": []
  },
  {
   "cell_type": "code",
   "execution_count": 230,
   "metadata": {},
   "outputs": [
    {
     "output_type": "stream",
     "name": "stdout",
     "text": "Epoch: 1 \tTraining Loss: 3.091483 \tValidation Loss: 2.299053\nValidation loss min: (inf --> 2.299053). Saving model\n\nEpoch: 2 \tTraining Loss: 1.58791 \tValidation Loss: 0.966494\nValidation loss min: (2.299053 --> 0.966494). Saving model\n\nEpoch: 3 \tTraining Loss: 0.875182 \tValidation Loss: 0.689975\nValidation loss min: (0.966494 --> 0.689975). Saving model\n\nEpoch: 4 \tTraining Loss: 0.625606 \tValidation Loss: 0.54408\nValidation loss min: (0.689975 --> 0.54408). Saving model\n\nEpoch: 5 \tTraining Loss: 0.482456 \tValidation Loss: 0.518924\nValidation loss min: (0.54408 --> 0.518924). Saving model\n\nEpoch: 6 \tTraining Loss: 0.390822 \tValidation Loss: 0.491754\nValidation loss min: (0.518924 --> 0.491754). Saving model\n\nEpoch: 7 \tTraining Loss: 0.313725 \tValidation Loss: 0.513735\n\nEpoch: 8 \tTraining Loss: 0.273315 \tValidation Loss: 0.478234\nValidation loss min: (0.491754 --> 0.478234). Saving model\n\nEpoch: 9 \tTraining Loss: 0.239563 \tValidation Loss: 0.486329\n\nEpoch: 10 \tTraining Loss: 0.208464 \tValidation Loss: 0.486449\n\n"
    }
   ],
   "source": [
    "from statistics import mean \n",
    "\n",
    "valid_loss_min = np.Inf\n",
    "train_losses, valid_losses = [], [] \n",
    "for epoch in range(epochs):\n",
    "    train_loss = []\n",
    "\n",
    "    # train the model\n",
    "    net.train()\n",
    "    for i in range(0, x.shape[0], batch_size):\n",
    "        loss = net.step_train(optimizer, loss_fn, x[i : i + batch_size], y[i : i + batch_size]):\n",
    "        \n",
    "        \n",
    "        if train_on_gpu:  x_minibatch, y_minibatch = x_minibatch.cuda(), y_minibatch.cuda()\n",
    "        \n",
    "        optimizer.zero_grad()\n",
    "        net_out = net(x_minibatch)\n",
    "        loss = loss_fn(net_out, y_minibatch)\n",
    "        loss.backward()\n",
    "        optimizer.step()\n",
    "\n",
    "        train_loss.append(loss.item())\n",
    "        \n",
    "    # validate the model\n",
    "    net.eval()\n",
    "    x_val_minibatch = Variable(validation_data_formated)\n",
    "    y_val_minibatch = Variable(validation_labels)\n",
    "    if train_on_gpu:  x_val_minibatch, y_val_minibatch = x_val_minibatch.cuda(), y_val_minibatch.cuda()\n",
    "    \n",
    "    net_out = net(x_val_minibatch)\n",
    "    loss = loss_fn(net_out, y_val_minibatch)\n",
    "    \n",
    "    valid_loss = loss.item()\n",
    "    train_loss = mean(train_loss)\n",
    "\n",
    "    print(f'Epoch: {epoch + 1} \\t', end=\"\")        \n",
    "    print(f'Training Loss: {np.round(train_loss, 6)} \\t', end=\"\")  \n",
    "    print(f'Validation Loss: {np.round(valid_loss, 6)}')\n",
    "\n",
    "    # save model if validation loss has decreased\n",
    "    if valid_loss <= valid_loss_min:\n",
    "        before, after = np.round(valid_loss_min, 6), np.round(valid_loss, 6)\n",
    "        print(f'Validation loss min: ({before} --> {after}). Saving model')\n",
    "\n",
    "        torch.save(net.state_dict(), 'best_model.pt')\n",
    "        valid_loss_min = valid_loss\n",
    "\n",
    "    print()"
   ]
  },
  {
   "cell_type": "code",
   "execution_count": 231,
   "metadata": {},
   "outputs": [
    {
     "output_type": "execute_result",
     "data": {
      "text/plain": "<All keys matched successfully>"
     },
     "metadata": {},
     "execution_count": 231
    }
   ],
   "source": [
    "net.load_state_dict(torch.load('best_model.pt'))"
   ]
  },
  {
   "cell_type": "code",
   "execution_count": 118,
   "metadata": {},
   "outputs": [
    {
     "output_type": "execute_result",
     "data": {
      "text/plain": "[<matplotlib.lines.Line2D at 0x1308cefd0>]"
     },
     "metadata": {},
     "execution_count": 118
    },
    {
     "output_type": "display_data",
     "data": {
      "text/plain": "<Figure size 720x576 with 1 Axes>",
      "image/svg+xml": "<?xml version=\"1.0\" encoding=\"utf-8\" standalone=\"no\"?>\n<!DOCTYPE svg PUBLIC \"-//W3C//DTD SVG 1.1//EN\"\n  \"http://www.w3.org/Graphics/SVG/1.1/DTD/svg11.dtd\">\n<!-- Created with matplotlib (https://matplotlib.org/) -->\n<svg height=\"465.958125pt\" version=\"1.1\" viewBox=\"0 0 595.303125 465.958125\" width=\"595.303125pt\" xmlns=\"http://www.w3.org/2000/svg\" xmlns:xlink=\"http://www.w3.org/1999/xlink\">\n <defs>\n  <style type=\"text/css\">\n*{stroke-linecap:butt;stroke-linejoin:round;white-space:pre;}\n  </style>\n </defs>\n <g id=\"figure_1\">\n  <g id=\"patch_1\">\n   <path d=\"M -0 465.958125 \nL 595.303125 465.958125 \nL 595.303125 0 \nL -0 0 \nz\n\" style=\"fill:none;\"/>\n  </g>\n  <g id=\"axes_1\">\n   <g id=\"patch_2\">\n    <path d=\"M 30.103125 442.08 \nL 588.103125 442.08 \nL 588.103125 7.2 \nL 30.103125 7.2 \nz\n\" style=\"fill:#ffffff;\"/>\n   </g>\n   <g id=\"matplotlib.axis_1\">\n    <g id=\"xtick_1\">\n     <g id=\"line2d_1\">\n      <defs>\n       <path d=\"M 0 0 \nL 0 3.5 \n\" id=\"me3c5753abc\" style=\"stroke:#000000;stroke-width:0.8;\"/>\n      </defs>\n      <g>\n       <use style=\"stroke:#000000;stroke-width:0.8;\" x=\"55.466761\" xlink:href=\"#me3c5753abc\" y=\"442.08\"/>\n      </g>\n     </g>\n     <g id=\"text_1\">\n      <!-- 0 -->\n      <defs>\n       <path d=\"M 31.78125 66.40625 \nQ 24.171875 66.40625 20.328125 58.90625 \nQ 16.5 51.421875 16.5 36.375 \nQ 16.5 21.390625 20.328125 13.890625 \nQ 24.171875 6.390625 31.78125 6.390625 \nQ 39.453125 6.390625 43.28125 13.890625 \nQ 47.125 21.390625 47.125 36.375 \nQ 47.125 51.421875 43.28125 58.90625 \nQ 39.453125 66.40625 31.78125 66.40625 \nz\nM 31.78125 74.21875 \nQ 44.046875 74.21875 50.515625 64.515625 \nQ 56.984375 54.828125 56.984375 36.375 \nQ 56.984375 17.96875 50.515625 8.265625 \nQ 44.046875 -1.421875 31.78125 -1.421875 \nQ 19.53125 -1.421875 13.0625 8.265625 \nQ 6.59375 17.96875 6.59375 36.375 \nQ 6.59375 54.828125 13.0625 64.515625 \nQ 19.53125 74.21875 31.78125 74.21875 \nz\n\" id=\"DejaVuSans-48\"/>\n      </defs>\n      <g transform=\"translate(52.285511 456.678437)scale(0.1 -0.1)\">\n       <use xlink:href=\"#DejaVuSans-48\"/>\n      </g>\n     </g>\n    </g>\n    <g id=\"xtick_2\">\n     <g id=\"line2d_2\">\n      <g>\n       <use style=\"stroke:#000000;stroke-width:0.8;\" x=\"141.44519\" xlink:href=\"#me3c5753abc\" y=\"442.08\"/>\n      </g>\n     </g>\n     <g id=\"text_2\">\n      <!-- 10 -->\n      <defs>\n       <path d=\"M 12.40625 8.296875 \nL 28.515625 8.296875 \nL 28.515625 63.921875 \nL 10.984375 60.40625 \nL 10.984375 69.390625 \nL 28.421875 72.90625 \nL 38.28125 72.90625 \nL 38.28125 8.296875 \nL 54.390625 8.296875 \nL 54.390625 0 \nL 12.40625 0 \nz\n\" id=\"DejaVuSans-49\"/>\n      </defs>\n      <g transform=\"translate(135.08269 456.678437)scale(0.1 -0.1)\">\n       <use xlink:href=\"#DejaVuSans-49\"/>\n       <use x=\"63.623047\" xlink:href=\"#DejaVuSans-48\"/>\n      </g>\n     </g>\n    </g>\n    <g id=\"xtick_3\">\n     <g id=\"line2d_3\">\n      <g>\n       <use style=\"stroke:#000000;stroke-width:0.8;\" x=\"227.423618\" xlink:href=\"#me3c5753abc\" y=\"442.08\"/>\n      </g>\n     </g>\n     <g id=\"text_3\">\n      <!-- 20 -->\n      <defs>\n       <path d=\"M 19.1875 8.296875 \nL 53.609375 8.296875 \nL 53.609375 0 \nL 7.328125 0 \nL 7.328125 8.296875 \nQ 12.9375 14.109375 22.625 23.890625 \nQ 32.328125 33.6875 34.8125 36.53125 \nQ 39.546875 41.84375 41.421875 45.53125 \nQ 43.3125 49.21875 43.3125 52.78125 \nQ 43.3125 58.59375 39.234375 62.25 \nQ 35.15625 65.921875 28.609375 65.921875 \nQ 23.96875 65.921875 18.8125 64.3125 \nQ 13.671875 62.703125 7.8125 59.421875 \nL 7.8125 69.390625 \nQ 13.765625 71.78125 18.9375 73 \nQ 24.125 74.21875 28.421875 74.21875 \nQ 39.75 74.21875 46.484375 68.546875 \nQ 53.21875 62.890625 53.21875 53.421875 \nQ 53.21875 48.921875 51.53125 44.890625 \nQ 49.859375 40.875 45.40625 35.40625 \nQ 44.1875 33.984375 37.640625 27.21875 \nQ 31.109375 20.453125 19.1875 8.296875 \nz\n\" id=\"DejaVuSans-50\"/>\n      </defs>\n      <g transform=\"translate(221.061118 456.678437)scale(0.1 -0.1)\">\n       <use xlink:href=\"#DejaVuSans-50\"/>\n       <use x=\"63.623047\" xlink:href=\"#DejaVuSans-48\"/>\n      </g>\n     </g>\n    </g>\n    <g id=\"xtick_4\">\n     <g id=\"line2d_4\">\n      <g>\n       <use style=\"stroke:#000000;stroke-width:0.8;\" x=\"313.402046\" xlink:href=\"#me3c5753abc\" y=\"442.08\"/>\n      </g>\n     </g>\n     <g id=\"text_4\">\n      <!-- 30 -->\n      <defs>\n       <path d=\"M 40.578125 39.3125 \nQ 47.65625 37.796875 51.625 33 \nQ 55.609375 28.21875 55.609375 21.1875 \nQ 55.609375 10.40625 48.1875 4.484375 \nQ 40.765625 -1.421875 27.09375 -1.421875 \nQ 22.515625 -1.421875 17.65625 -0.515625 \nQ 12.796875 0.390625 7.625 2.203125 \nL 7.625 11.71875 \nQ 11.71875 9.328125 16.59375 8.109375 \nQ 21.484375 6.890625 26.8125 6.890625 \nQ 36.078125 6.890625 40.9375 10.546875 \nQ 45.796875 14.203125 45.796875 21.1875 \nQ 45.796875 27.640625 41.28125 31.265625 \nQ 36.765625 34.90625 28.71875 34.90625 \nL 20.21875 34.90625 \nL 20.21875 43.015625 \nL 29.109375 43.015625 \nQ 36.375 43.015625 40.234375 45.921875 \nQ 44.09375 48.828125 44.09375 54.296875 \nQ 44.09375 59.90625 40.109375 62.90625 \nQ 36.140625 65.921875 28.71875 65.921875 \nQ 24.65625 65.921875 20.015625 65.03125 \nQ 15.375 64.15625 9.8125 62.3125 \nL 9.8125 71.09375 \nQ 15.4375 72.65625 20.34375 73.4375 \nQ 25.25 74.21875 29.59375 74.21875 \nQ 40.828125 74.21875 47.359375 69.109375 \nQ 53.90625 64.015625 53.90625 55.328125 \nQ 53.90625 49.265625 50.4375 45.09375 \nQ 46.96875 40.921875 40.578125 39.3125 \nz\n\" id=\"DejaVuSans-51\"/>\n      </defs>\n      <g transform=\"translate(307.039546 456.678437)scale(0.1 -0.1)\">\n       <use xlink:href=\"#DejaVuSans-51\"/>\n       <use x=\"63.623047\" xlink:href=\"#DejaVuSans-48\"/>\n      </g>\n     </g>\n    </g>\n    <g id=\"xtick_5\">\n     <g id=\"line2d_5\">\n      <g>\n       <use style=\"stroke:#000000;stroke-width:0.8;\" x=\"399.380475\" xlink:href=\"#me3c5753abc\" y=\"442.08\"/>\n      </g>\n     </g>\n     <g id=\"text_5\">\n      <!-- 40 -->\n      <defs>\n       <path d=\"M 37.796875 64.3125 \nL 12.890625 25.390625 \nL 37.796875 25.390625 \nz\nM 35.203125 72.90625 \nL 47.609375 72.90625 \nL 47.609375 25.390625 \nL 58.015625 25.390625 \nL 58.015625 17.1875 \nL 47.609375 17.1875 \nL 47.609375 0 \nL 37.796875 0 \nL 37.796875 17.1875 \nL 4.890625 17.1875 \nL 4.890625 26.703125 \nz\n\" id=\"DejaVuSans-52\"/>\n      </defs>\n      <g transform=\"translate(393.017975 456.678437)scale(0.1 -0.1)\">\n       <use xlink:href=\"#DejaVuSans-52\"/>\n       <use x=\"63.623047\" xlink:href=\"#DejaVuSans-48\"/>\n      </g>\n     </g>\n    </g>\n    <g id=\"xtick_6\">\n     <g id=\"line2d_6\">\n      <g>\n       <use style=\"stroke:#000000;stroke-width:0.8;\" x=\"485.358903\" xlink:href=\"#me3c5753abc\" y=\"442.08\"/>\n      </g>\n     </g>\n     <g id=\"text_6\">\n      <!-- 50 -->\n      <defs>\n       <path d=\"M 10.796875 72.90625 \nL 49.515625 72.90625 \nL 49.515625 64.59375 \nL 19.828125 64.59375 \nL 19.828125 46.734375 \nQ 21.96875 47.46875 24.109375 47.828125 \nQ 26.265625 48.1875 28.421875 48.1875 \nQ 40.625 48.1875 47.75 41.5 \nQ 54.890625 34.8125 54.890625 23.390625 \nQ 54.890625 11.625 47.5625 5.09375 \nQ 40.234375 -1.421875 26.90625 -1.421875 \nQ 22.3125 -1.421875 17.546875 -0.640625 \nQ 12.796875 0.140625 7.71875 1.703125 \nL 7.71875 11.625 \nQ 12.109375 9.234375 16.796875 8.0625 \nQ 21.484375 6.890625 26.703125 6.890625 \nQ 35.15625 6.890625 40.078125 11.328125 \nQ 45.015625 15.765625 45.015625 23.390625 \nQ 45.015625 31 40.078125 35.4375 \nQ 35.15625 39.890625 26.703125 39.890625 \nQ 22.75 39.890625 18.8125 39.015625 \nQ 14.890625 38.140625 10.796875 36.28125 \nz\n\" id=\"DejaVuSans-53\"/>\n      </defs>\n      <g transform=\"translate(478.996403 456.678437)scale(0.1 -0.1)\">\n       <use xlink:href=\"#DejaVuSans-53\"/>\n       <use x=\"63.623047\" xlink:href=\"#DejaVuSans-48\"/>\n      </g>\n     </g>\n    </g>\n    <g id=\"xtick_7\">\n     <g id=\"line2d_7\">\n      <g>\n       <use style=\"stroke:#000000;stroke-width:0.8;\" x=\"571.337331\" xlink:href=\"#me3c5753abc\" y=\"442.08\"/>\n      </g>\n     </g>\n     <g id=\"text_7\">\n      <!-- 60 -->\n      <defs>\n       <path d=\"M 33.015625 40.375 \nQ 26.375 40.375 22.484375 35.828125 \nQ 18.609375 31.296875 18.609375 23.390625 \nQ 18.609375 15.53125 22.484375 10.953125 \nQ 26.375 6.390625 33.015625 6.390625 \nQ 39.65625 6.390625 43.53125 10.953125 \nQ 47.40625 15.53125 47.40625 23.390625 \nQ 47.40625 31.296875 43.53125 35.828125 \nQ 39.65625 40.375 33.015625 40.375 \nz\nM 52.59375 71.296875 \nL 52.59375 62.3125 \nQ 48.875 64.0625 45.09375 64.984375 \nQ 41.3125 65.921875 37.59375 65.921875 \nQ 27.828125 65.921875 22.671875 59.328125 \nQ 17.53125 52.734375 16.796875 39.40625 \nQ 19.671875 43.65625 24.015625 45.921875 \nQ 28.375 48.1875 33.59375 48.1875 \nQ 44.578125 48.1875 50.953125 41.515625 \nQ 57.328125 34.859375 57.328125 23.390625 \nQ 57.328125 12.15625 50.6875 5.359375 \nQ 44.046875 -1.421875 33.015625 -1.421875 \nQ 20.359375 -1.421875 13.671875 8.265625 \nQ 6.984375 17.96875 6.984375 36.375 \nQ 6.984375 53.65625 15.1875 63.9375 \nQ 23.390625 74.21875 37.203125 74.21875 \nQ 40.921875 74.21875 44.703125 73.484375 \nQ 48.484375 72.75 52.59375 71.296875 \nz\n\" id=\"DejaVuSans-54\"/>\n      </defs>\n      <g transform=\"translate(564.974831 456.678437)scale(0.1 -0.1)\">\n       <use xlink:href=\"#DejaVuSans-54\"/>\n       <use x=\"63.623047\" xlink:href=\"#DejaVuSans-48\"/>\n      </g>\n     </g>\n    </g>\n   </g>\n   <g id=\"matplotlib.axis_2\">\n    <g id=\"ytick_1\">\n     <g id=\"line2d_8\">\n      <defs>\n       <path d=\"M 0 0 \nL -3.5 0 \n\" id=\"mdbb493e0de\" style=\"stroke:#000000;stroke-width:0.8;\"/>\n      </defs>\n      <g>\n       <use style=\"stroke:#000000;stroke-width:0.8;\" x=\"30.103125\" xlink:href=\"#mdbb493e0de\" y=\"425.884116\"/>\n      </g>\n     </g>\n     <g id=\"text_8\">\n      <!-- 0.0 -->\n      <defs>\n       <path d=\"M 10.6875 12.40625 \nL 21 12.40625 \nL 21 0 \nL 10.6875 0 \nz\n\" id=\"DejaVuSans-46\"/>\n      </defs>\n      <g transform=\"translate(7.2 429.683334)scale(0.1 -0.1)\">\n       <use xlink:href=\"#DejaVuSans-48\"/>\n       <use x=\"63.623047\" xlink:href=\"#DejaVuSans-46\"/>\n       <use x=\"95.410156\" xlink:href=\"#DejaVuSans-48\"/>\n      </g>\n     </g>\n    </g>\n    <g id=\"ytick_2\">\n     <g id=\"line2d_9\">\n      <g>\n       <use style=\"stroke:#000000;stroke-width:0.8;\" x=\"30.103125\" xlink:href=\"#mdbb493e0de\" y=\"358.622967\"/>\n      </g>\n     </g>\n     <g id=\"text_9\">\n      <!-- 0.5 -->\n      <g transform=\"translate(7.2 362.422186)scale(0.1 -0.1)\">\n       <use xlink:href=\"#DejaVuSans-48\"/>\n       <use x=\"63.623047\" xlink:href=\"#DejaVuSans-46\"/>\n       <use x=\"95.410156\" xlink:href=\"#DejaVuSans-53\"/>\n      </g>\n     </g>\n    </g>\n    <g id=\"ytick_3\">\n     <g id=\"line2d_10\">\n      <g>\n       <use style=\"stroke:#000000;stroke-width:0.8;\" x=\"30.103125\" xlink:href=\"#mdbb493e0de\" y=\"291.361819\"/>\n      </g>\n     </g>\n     <g id=\"text_10\">\n      <!-- 1.0 -->\n      <g transform=\"translate(7.2 295.161037)scale(0.1 -0.1)\">\n       <use xlink:href=\"#DejaVuSans-49\"/>\n       <use x=\"63.623047\" xlink:href=\"#DejaVuSans-46\"/>\n       <use x=\"95.410156\" xlink:href=\"#DejaVuSans-48\"/>\n      </g>\n     </g>\n    </g>\n    <g id=\"ytick_4\">\n     <g id=\"line2d_11\">\n      <g>\n       <use style=\"stroke:#000000;stroke-width:0.8;\" x=\"30.103125\" xlink:href=\"#mdbb493e0de\" y=\"224.10067\"/>\n      </g>\n     </g>\n     <g id=\"text_11\">\n      <!-- 1.5 -->\n      <g transform=\"translate(7.2 227.899889)scale(0.1 -0.1)\">\n       <use xlink:href=\"#DejaVuSans-49\"/>\n       <use x=\"63.623047\" xlink:href=\"#DejaVuSans-46\"/>\n       <use x=\"95.410156\" xlink:href=\"#DejaVuSans-53\"/>\n      </g>\n     </g>\n    </g>\n    <g id=\"ytick_5\">\n     <g id=\"line2d_12\">\n      <g>\n       <use style=\"stroke:#000000;stroke-width:0.8;\" x=\"30.103125\" xlink:href=\"#mdbb493e0de\" y=\"156.839522\"/>\n      </g>\n     </g>\n     <g id=\"text_12\">\n      <!-- 2.0 -->\n      <g transform=\"translate(7.2 160.63874)scale(0.1 -0.1)\">\n       <use xlink:href=\"#DejaVuSans-50\"/>\n       <use x=\"63.623047\" xlink:href=\"#DejaVuSans-46\"/>\n       <use x=\"95.410156\" xlink:href=\"#DejaVuSans-48\"/>\n      </g>\n     </g>\n    </g>\n    <g id=\"ytick_6\">\n     <g id=\"line2d_13\">\n      <g>\n       <use style=\"stroke:#000000;stroke-width:0.8;\" x=\"30.103125\" xlink:href=\"#mdbb493e0de\" y=\"89.578373\"/>\n      </g>\n     </g>\n     <g id=\"text_13\">\n      <!-- 2.5 -->\n      <g transform=\"translate(7.2 93.377592)scale(0.1 -0.1)\">\n       <use xlink:href=\"#DejaVuSans-50\"/>\n       <use x=\"63.623047\" xlink:href=\"#DejaVuSans-46\"/>\n       <use x=\"95.410156\" xlink:href=\"#DejaVuSans-53\"/>\n      </g>\n     </g>\n    </g>\n    <g id=\"ytick_7\">\n     <g id=\"line2d_14\">\n      <g>\n       <use style=\"stroke:#000000;stroke-width:0.8;\" x=\"30.103125\" xlink:href=\"#mdbb493e0de\" y=\"22.317225\"/>\n      </g>\n     </g>\n     <g id=\"text_14\">\n      <!-- 3.0 -->\n      <g transform=\"translate(7.2 26.116443)scale(0.1 -0.1)\">\n       <use xlink:href=\"#DejaVuSans-51\"/>\n       <use x=\"63.623047\" xlink:href=\"#DejaVuSans-46\"/>\n       <use x=\"95.410156\" xlink:href=\"#DejaVuSans-48\"/>\n      </g>\n     </g>\n    </g>\n   </g>\n   <g id=\"line2d_15\">\n    <path clip-path=\"url(#p68fe67b2a8)\" d=\"M 55.466761 26.967273 \nL 64.064604 55.890549 \nL 72.662447 94.787736 \nL 81.26029 185.686658 \nL 89.858133 196.325176 \nL 98.455976 225.46884 \nL 107.053818 286.043008 \nL 115.651661 271.064295 \nL 124.249504 292.793532 \nL 132.847347 324.807767 \nL 141.44519 348.374163 \nL 150.043033 346.73692 \nL 158.640875 337.015502 \nL 167.238718 339.876339 \nL 175.836561 365.423003 \nL 184.434404 383.430541 \nL 193.032247 361.61972 \nL 201.63009 371.372329 \nL 210.227932 385.69132 \nL 218.825775 379.786259 \nL 227.423618 396.562321 \nL 236.021461 379.726884 \nL 244.619304 379.799296 \nL 253.217147 409.043912 \nL 261.814989 398.646736 \nL 270.412832 393.753832 \nL 279.010675 385.883122 \nL 287.608518 400.717132 \nL 296.206361 376.721295 \nL 304.804204 385.736117 \nL 313.402046 408.062765 \nL 321.999889 408.059104 \nL 330.597732 404.146504 \nL 339.195575 393.569312 \nL 347.793418 410.928863 \nL 356.391261 403.385776 \nL 364.989103 403.175506 \nL 373.586946 410.544046 \nL 382.184789 392.411337 \nL 390.782632 413.637708 \nL 399.380475 399.497959 \nL 407.978318 407.751504 \nL 416.57616 409.850923 \nL 425.174003 410.213552 \nL 433.771846 395.256975 \nL 442.369689 391.622152 \nL 450.967532 417.017674 \nL 459.565375 419.447322 \nL 468.163217 416.292931 \nL 476.76106 414.86245 \nL 485.358903 408.408089 \nL 493.956746 400.659563 \nL 502.554589 400.918357 \nL 511.152432 408.068955 \nL 519.750274 412.700743 \nL 528.348117 406.377595 \nL 536.94596 421.186193 \nL 545.543803 419.70476 \n\" style=\"fill:none;stroke:#1f77b4;stroke-linecap:square;stroke-width:1.5;\"/>\n   </g>\n   <g id=\"line2d_16\">\n    <path clip-path=\"url(#p68fe67b2a8)\" d=\"M 55.466761 422.312727 \nL 64.064604 411.598562 \nL 72.662447 404.455785 \nL 81.26029 394.932083 \nL 89.858133 395.527314 \nL 98.455976 378.265603 \nL 107.053818 361.003893 \nL 115.651661 350.884959 \nL 124.249504 354.456347 \nL 132.847347 347.908802 \nL 141.44519 337.789868 \nL 150.043033 332.432785 \nL 158.640875 336.599405 \nL 167.238718 341.956488 \nL 175.836561 335.408942 \nL 184.434404 329.456628 \nL 193.032247 332.432785 \nL 201.63009 331.837554 \nL 210.227932 331.837554 \nL 218.825775 327.075703 \nL 227.423618 328.861397 \nL 236.021461 328.861397 \nL 244.619304 327.670934 \nL 253.217147 322.313852 \nL 261.814989 328.266166 \nL 270.412832 325.290009 \nL 279.010675 319.932926 \nL 287.608518 318.147232 \nL 296.206361 322.909083 \nL 304.804204 324.694777 \nL 313.402046 321.123389 \nL 321.999889 322.313852 \nL 330.597732 325.290009 \nL 339.195575 322.909083 \nL 347.793418 325.290009 \nL 356.391261 319.932926 \nL 364.989103 322.313852 \nL 373.586946 323.504314 \nL 382.184789 316.956769 \nL 390.782632 325.290009 \nL 399.380475 316.956769 \nL 407.978318 318.147232 \nL 416.57616 319.932926 \nL 425.174003 318.742463 \nL 433.771846 319.932926 \nL 442.369689 317.552 \nL 450.967532 320.528157 \nL 459.565375 318.742463 \nL 468.163217 319.337695 \nL 476.76106 318.742463 \nL 485.358903 315.766306 \nL 493.956746 319.337695 \nL 502.554589 320.528157 \nL 511.152432 319.932926 \nL 519.750274 319.337695 \nL 528.348117 313.980612 \nL 536.94596 315.171075 \nL 545.543803 319.932926 \nL 554.141646 322.909083 \nL 562.739489 318.742463 \n\" style=\"fill:none;stroke:#ff7f0e;stroke-linecap:square;stroke-width:1.5;\"/>\n   </g>\n   <g id=\"line2d_17\">\n    <path clip-path=\"url(#p68fe67b2a8)\" d=\"M 55.466761 291.361819 \nL 64.064604 291.361819 \nL 72.662447 291.361819 \nL 81.26029 291.361819 \nL 89.858133 291.361819 \nL 98.455976 291.361819 \nL 107.053818 291.361819 \nL 115.651661 291.361819 \nL 124.249504 291.361819 \nL 132.847347 291.361819 \nL 141.44519 291.361819 \nL 150.043033 291.361819 \nL 158.640875 291.361819 \nL 167.238718 291.361819 \nL 175.836561 291.361819 \nL 184.434404 291.361819 \nL 193.032247 291.361819 \nL 201.63009 291.361819 \nL 210.227932 291.361819 \nL 218.825775 291.361819 \nL 227.423618 291.361819 \nL 236.021461 291.361819 \nL 244.619304 291.361819 \nL 253.217147 291.361819 \nL 261.814989 291.361819 \nL 270.412832 291.361819 \nL 279.010675 291.361819 \nL 287.608518 291.361819 \nL 296.206361 291.361819 \nL 304.804204 291.361819 \nL 313.402046 291.361819 \nL 321.999889 291.361819 \nL 330.597732 291.361819 \nL 339.195575 291.361819 \nL 347.793418 291.361819 \nL 356.391261 291.361819 \nL 364.989103 291.361819 \nL 373.586946 291.361819 \nL 382.184789 291.361819 \nL 390.782632 291.361819 \nL 399.380475 291.361819 \nL 407.978318 291.361819 \nL 416.57616 291.361819 \nL 425.174003 291.361819 \nL 433.771846 291.361819 \nL 442.369689 291.361819 \nL 450.967532 291.361819 \nL 459.565375 291.361819 \nL 468.163217 291.361819 \nL 476.76106 291.361819 \nL 485.358903 291.361819 \nL 493.956746 291.361819 \nL 502.554589 291.361819 \nL 511.152432 291.361819 \nL 519.750274 291.361819 \nL 528.348117 291.361819 \nL 536.94596 291.361819 \nL 545.543803 291.361819 \nL 554.141646 291.361819 \nL 562.739489 291.361819 \n\" style=\"fill:none;stroke:#2ca02c;stroke-dasharray:5.55,2.4;stroke-dashoffset:0;stroke-width:1.5;\"/>\n   </g>\n   <g id=\"patch_3\">\n    <path d=\"M 30.103125 442.08 \nL 30.103125 7.2 \n\" style=\"fill:none;stroke:#000000;stroke-linecap:square;stroke-linejoin:miter;stroke-width:0.8;\"/>\n   </g>\n   <g id=\"patch_4\">\n    <path d=\"M 588.103125 442.08 \nL 588.103125 7.2 \n\" style=\"fill:none;stroke:#000000;stroke-linecap:square;stroke-linejoin:miter;stroke-width:0.8;\"/>\n   </g>\n   <g id=\"patch_5\">\n    <path d=\"M 30.103125 442.08 \nL 588.103125 442.08 \n\" style=\"fill:none;stroke:#000000;stroke-linecap:square;stroke-linejoin:miter;stroke-width:0.8;\"/>\n   </g>\n   <g id=\"patch_6\">\n    <path d=\"M 30.103125 7.2 \nL 588.103125 7.2 \n\" style=\"fill:none;stroke:#000000;stroke-linecap:square;stroke-linejoin:miter;stroke-width:0.8;\"/>\n   </g>\n  </g>\n </g>\n <defs>\n  <clipPath id=\"p68fe67b2a8\">\n   <rect height=\"434.88\" width=\"558\" x=\"30.103125\" y=\"7.2\"/>\n  </clipPath>\n </defs>\n</svg>\n",
      "image/png": "[encoded data removed]"
     },
     "metadata": {
      "needs_background": "light"
     }
    }
   ],
   "source": [
    "import matplotlib.pyplot as plt\n",
    "%matplotlib inline\n",
    "\n",
    "plt.figure(figsize=(10,8))\n",
    "plt.plot(loss_log[2:])\n",
    "plt.plot(accuracy_log)\n",
    "plt.plot(np.ones(len(accuracy_log)), linestyle='dashed')"
   ]
  },
  {
   "cell_type": "code",
   "execution_count": 232,
   "metadata": {},
   "outputs": [
    {
     "output_type": "execute_result",
     "data": {
      "text/plain": "Network(\n  (conv1): Conv2d(1, 10, kernel_size=(3, 3), stride=(1, 1))\n  (pool1): MaxPool2d(kernel_size=2, stride=2, padding=0, dilation=1, ceil_mode=False)\n  (conv2): Conv2d(10, 20, kernel_size=(3, 3), stride=(1, 1))\n  (pool2): MaxPool2d(kernel_size=2, stride=2, padding=0, dilation=1, ceil_mode=False)\n  (conv3): Conv2d(20, 30, kernel_size=(3, 3), stride=(1, 1))\n  (dropout1): Dropout2d(p=0.5, inplace=False)\n  (fc3): Linear(in_features=270, out_features=256, bias=True)\n  (fc4): Linear(in_features=256, out_features=26, bias=True)\n  (softmax): LogSoftmax()\n)"
     },
     "metadata": {},
     "execution_count": 232
    }
   ],
   "source": [
    "net.eval()"
   ]
  },
  {
   "cell_type": "code",
   "execution_count": 233,
   "metadata": {},
   "outputs": [
    {
     "output_type": "display_data",
     "data": {
      "text/plain": "interactive(children=(IntSlider(value=1793, description='sample', max=3587), Output()), _dom_classes=('widget-…",
      "application/vnd.jupyter.widget-view+json": {
       "version_major": 2,
       "version_minor": 0,
       "model_id": "8e60bdd26f0142199ef841b2c9f8db66"
      }
     },
     "metadata": {}
    }
   ],
   "source": [
    "@interact(sample = (0, len(test_data)))\n",
    "def show_image_dataset(sample):\n",
    "    info, label = test_data[sample], labels_test[sample]\n",
    "    pixels = info.reshape(IMAGE_SIZE, IMAGE_SIZE)\n",
    "\n",
    "    test_sample = torch.FloatTensor([info.reshape(1, 28, 28).tolist()])\n",
    "    predicted_label = net.evaluate(Variable(test_sample))\n",
    "    _, ax = plt.subplots(figsize=(3.5, 3.5))\n",
    "    sns.heatmap(data=pixels, cmap=\"YlGnBu\", ax=ax)\n",
    "\n",
    "    actual    = f\"{num_to_letter(label)} ⟵ actual\"\n",
    "    predicted = f\"{num_to_letter(predicted_label)} ⟵ predicted\"\n",
    "    plt.title(actual + \"\\n\" + predicted, fontsize=20, color=\"#00008b\", loc=\"left\")\n",
    "\n",
    "    plt.show()"
   ]
  },
  {
   "cell_type": "code",
   "execution_count": 234,
   "metadata": {},
   "outputs": [
    {
     "output_type": "stream",
     "name": "stdout",
     "text": "Correct predictions: 3062 / 3587: 0.853638\n"
    }
   ],
   "source": [
    "prediction = net.evaluate(Variable(test_data_formated))\n",
    "accuracy = net.accuracy(prediction, test_labels)\n",
    "\n",
    "n = len(prediction)\n",
    "correct = int(n * accuracy)\n",
    "print(f\"Correct predictions: {correct} / {n}: \", end=\"\")\n",
    "print(f\"{round(accuracy, 6)}\")"
   ]
  }
 ],
 "metadata": {
  "kernelspec": {
   "display_name": "Python 3.7.6 64-bit",
   "language": "python",
   "name": "python37664bit259498e2318c4e13a37fb8f3aa77a7e8"
  },
  "language_info": {
   "codemirror_mode": {
    "name": "ipython",
    "version": 3
   },
   "file_extension": ".py",
   "mimetype": "text/x-python",
   "name": "python",
   "nbconvert_exporter": "python",
   "pygments_lexer": "ipython3",
   "version": "3.7.6-final"
  }
 },
 "nbformat": 4,
 "nbformat_minor": 2
}